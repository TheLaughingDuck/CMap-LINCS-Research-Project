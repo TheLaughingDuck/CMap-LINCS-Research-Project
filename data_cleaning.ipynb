{
 "cells": [
  {
   "cell_type": "markdown",
   "metadata": {},
   "source": [
    "# Dependencies"
   ]
  },
  {
   "cell_type": "code",
   "execution_count": null,
   "metadata": {},
   "outputs": [],
   "source": [
    "from tools.utils import gctx\n",
    "from tools.transform_data import standardize_dose_unit\n",
    "import pandas as pd\n",
    "from sklearn.model_selection import train_test_split"
   ]
  },
  {
   "cell_type": "markdown",
   "metadata": {},
   "source": [
    "# Load and Preprocess data"
   ]
  },
  {
   "cell_type": "code",
   "execution_count": null,
   "metadata": {},
   "outputs": [
    {
     "name": "stderr",
     "output_type": "stream",
     "text": [
      "c:\\Users\\jorst\\Documents\\STUDIER\\Master Courses\\Research Project (732A76)\\rp_venv\\Lib\\site-packages\\cmapPy\\pandasGEXpress\\parse_gctx.py:275: FutureWarning: errors='ignore' is deprecated and will raise in a future version. Use to_numeric without passing `errors` and catch exceptions explicitly instead\n",
      "  meta_df = meta_df.apply(lambda x: pd.to_numeric(x, errors=\"ignore\"))\n",
      "c:\\Users\\jorst\\Documents\\STUDIER\\Master Courses\\Research Project (732A76)\\rp_venv\\Lib\\site-packages\\cmapPy\\pandasGEXpress\\parse_gctx.py:275: FutureWarning: errors='ignore' is deprecated and will raise in a future version. Use to_numeric without passing `errors` and catch exceptions explicitly instead\n",
      "  meta_df = meta_df.apply(lambda x: pd.to_numeric(x, errors=\"ignore\"))\n",
      "C:\\Users\\jorst\\AppData\\Local\\Temp\\ipykernel_7008\\3721321027.py:2: DtypeWarning: Columns (0,3,4,28,29) have mixed types. Specify dtype option on import or set low_memory=False.\n",
      "  siginfo = pd.read_csv(\"Data/siginfo_beta.txt\", sep=\"\\t\")\n",
      "C:\\Users\\jorst\\AppData\\Local\\Temp\\ipykernel_7008\\3721321027.py:51: SettingWithCopyWarning: \n",
      "A value is trying to be set on a copy of a slice from a DataFrame.\n",
      "Try using .loc[row_indexer,col_indexer] = value instead\n",
      "\n",
      "See the caveats in the documentation: https://pandas.pydata.org/pandas-docs/stable/user_guide/indexing.html#returning-a-view-versus-a-copy\n",
      "  X.loc[:,\"dose\"] = X[\"pert_dose\"]\n"
     ]
    }
   ],
   "source": [
    "data = gctx(\"Data/level5_beta_trt_misc_n8283x12328.gctx\")\n",
    "siginfo = pd.read_csv(\"Data/siginfo_beta.txt\", sep=\"\\t\")\n",
    "compoundinfo = pd.read_csv(\"Data/compoundinfo_beta.txt\", sep=\"\\t\")\n",
    "cellinfo = pd.read_csv(\"Data/cellinfo_beta.txt\", sep=\"\\t\")\n",
    "\n",
    "# Create Dataframe with the unique signatures row-wise\n",
    "X_raw = pd.DataFrame(data.cids, columns=[\"cids\"])\n",
    "\n",
    "# Join all the information we have on the unique signature\n",
    "X_raw = X_raw.merge(siginfo, how=\"left\", left_on=\"cids\", right_on=\"sig_id\")\n",
    "\n",
    "# Join all the information we have on the pertubagens in general\n",
    "X_raw = X_raw.merge(compoundinfo, how=\"left\", left_on=\"pert_id\", right_on=\"pert_id\")\n",
    "\n",
    "# Join cell information\n",
    "X_raw = X_raw.merge(cellinfo, how=\"left\", on=\"cell_iname\")\n",
    "\n",
    "# Split up certain factor features\n",
    "X_raw[\"cell_type_tumor\"] = X_raw[\"cell_type\"] == \"tumor\" # type are either \"normal\" or \"tumor\"\n",
    "X_raw.drop(\"cell_type\", axis=1)\n",
    "#X_raw = X_raw.join(pd.get_dummies(X_raw[\"cell_type\"], prefix=\"celltype\")) # celltype_normal and celltype_tumor\n",
    "\n",
    "# Load the raw labels\n",
    "y_raw = data.obj.data_df.transpose()\n",
    "\n",
    "# Filter out non-landmark genes\n",
    "geneinfo = pd.read_csv(\"Data/geneinfo_beta.txt\", sep=\"\\t\")\n",
    "landmark_gene_ids = geneinfo[geneinfo[\"feature_space\"] == \"landmark\"][\"gene_id\"].to_list()\n",
    "landmark_gene_ids = [str(i) for i in landmark_gene_ids]\n",
    "y_raw = y_raw[landmark_gene_ids]\n",
    "\n",
    "# Encode cell_lineage\n",
    "X_raw = X_raw.join(pd.get_dummies(X_raw[\"cell_lineage\"], prefix=\"cell_lineage\"))\n",
    "\n",
    "# Encode cell growth_pattern\n",
    "X_raw = X_raw.join(pd.get_dummies(X_raw[\"growth_pattern\"], prefix=\"growth_pattern\"))\n",
    "\n",
    "# Clean doubling_time\n",
    "X_raw.loc[:,\"doubling_time\"] = [float(120) if val == \">120\" else float(val) for val in X_raw[\"doubling_time\"]]\n",
    "\n",
    "## THIS IS WHERE WE START THROWING AWAY ROWS AND COLUMNS ##\n",
    "X = X_raw\n",
    "y = y_raw\n",
    "\n",
    "# Remove observations with dose unit uM, because it does not play nice with the other does, and there are not many such observations\n",
    "ind = (X[\"pert_dose_unit\"] != \"uM\") & (X[\"pert_dose_unit\"] != \"nan\") & (X[\"pert_dose_unit\"].isna() == False)\n",
    "ind = ind.to_list()\n",
    "X = X[ind]\n",
    "y = y[ind]\n",
    "\n",
    "# Convert all doses to same unit (mg/ml) and then normalise\n",
    "X.loc[:,\"pert_dose\"] = [standardize_dose_unit(dose, unit) for dose, unit in zip(X[\"pert_dose\"], X[\"pert_dose_unit\"])]\n",
    "X.loc[:,\"pert_dose\"] = (X[\"pert_dose\"] - min(X[\"pert_dose\"])) / (max(X[\"pert_dose\"]) - min(X[\"pert_dose\"]))\n",
    "X.loc[:,\"dose\"] = X[\"pert_dose\"]\n",
    "X.drop(\"pert_dose\", axis=1)\n",
    "\n",
    "# Just for a test, we remove all but a few arbitrary numerical features\n",
    "cell_lineage_columns = [\"cell_lineage_\" + i for i in [\"breast\", \"haematopoietic_and_lymphoid_tissue\", \"kidney\", \"large_intestine\", \"liver\", \"lung\", \"prostate\", \"skin\"]]\n",
    "growth_pattern_columns = [\"growth_pattern_\" + i for i in ['adherent', 'mix', 'suspension', 'unknown']]\n",
    "X = X[[\"dose\", \"pert_time\", \"cell_type_tumor\", \"cell_lineage_skin\", \"doubling_time\"] + cell_lineage_columns]\n",
    "\n",
    "# Deal with Na's. Very naive at the moment.\n",
    "X = X.fillna(0)\n",
    "\n",
    "# Train, val, and test split\n",
    "X_train, X_intermed, y_train, y_intermed = train_test_split(X, y, train_size=0.7)\n",
    "X_valid, X_test, y_valid, y_test = train_test_split(X_intermed, y_intermed, train_size=0.5)"
   ]
  },
  {
   "cell_type": "markdown",
   "metadata": {},
   "source": [
    "# Inspecting the data"
   ]
  },
  {
   "cell_type": "code",
   "execution_count": null,
   "metadata": {},
   "outputs": [],
   "source": [
    "######### COMMENTS AND NOTES #########\n",
    "#sum(X_raw[\"pert_type\"] == \"trt_aby\") # remove \"trt_aby\"?\n",
    "\n",
    "######### COMMENTS AND NOTES #########\n",
    "\n",
    "\n",
    "# build_name is in siginfo_beta.txt, but I can't find any information on it i the netadatafiles.\n",
    "#keep_columns = [\"pert_dose\", \"pert_time\", \"pert_type\", \"cell_iname\", \"donor_age\", \"cell_lineage\"]\n",
    "#drop_columns = [\"cids\", \"bead_batch\", \"nearest_dose\", \"pert_dose_unit\", \"pert_idose\", \"pert_itime\", \"pert_time_unit\", \"cell_mfc_name\", \"pert_mfc_id\", \"nsample\", \"cc_q75\", \"ss_ngene\", \"tas\", \"wt\", \"median_recall_rank_spearman\", \"median_recall_rank_wtcs_50\", \"median_recall_score_spearman\", \"median_recall_score_wtcs_50\", \"batch_effect_tstat\", \"is_hiq\", \"qc_pass\", \"qc_pass\", \"det_wells\", \"det_plates\", \"distil_ids\", \"project_code\", \"pct_self_rank_q25\", \"batch_effect_tstat\", \"pert_id\", \"batch_effect_tstat_pct\", \"sig_id\", \"cell_iname\", \"build_name\", \"cmap_name_x\", \"is_exemplar_sig\", \"is_ncs_sig\", \"is_null_sig\", \"cmap_name_y\"]\n",
    "\n",
    "#drop_columns += [\"moa\", \"target\"] #These could be interesting, but there is some issue (moa: all nan, )\n",
    "\n",
    "#X_raw.drop(drop_columns + keep_columns, axis=1)\n",
    "\n",
    "#set(X[\"doubling_time\"])\n",
    "#[(float(val) if type(val) == str else float(val.removeprefix(\">\"))) for val in X[\"doubling_time\"]]\n",
    "\n",
    "#type(X[\"doubling_time\"][0])"
   ]
  }
 ],
 "metadata": {
  "kernelspec": {
   "display_name": "rp_venv",
   "language": "python",
   "name": "python3"
  },
  "language_info": {
   "codemirror_mode": {
    "name": "ipython",
    "version": 3
   },
   "file_extension": ".py",
   "mimetype": "text/x-python",
   "name": "python",
   "nbconvert_exporter": "python",
   "pygments_lexer": "ipython3",
   "version": "3.12.1"
  }
 },
 "nbformat": 4,
 "nbformat_minor": 2
}
