{
 "cells": [
  {
   "cell_type": "markdown",
   "id": "90691eda-4839-4123-b684-a80dddcd6da6",
   "metadata": {},
   "source": [
    "# Preprocess"
   ]
  },
  {
   "cell_type": "code",
   "execution_count": 1,
   "id": "8d77a6c3-c9b8-4fe1-8118-100ad51cf9a8",
   "metadata": {},
   "outputs": [
    {
     "name": "stdout",
     "output_type": "stream",
     "text": [
      "\n",
      "Arise, arise, Kernels of the Motherboard!\n"
     ]
    },
    {
     "name": "stderr",
     "output_type": "stream",
     "text": [
      "/local/data1/simjo484/cond_env/lib/python3.12/site-packages/cmapPy/pandasGEXpress/parse_gctx.py:275: FutureWarning: errors='ignore' is deprecated and will raise in a future version. Use to_numeric without passing `errors` and catch exceptions explicitly instead\n",
      "  meta_df = meta_df.apply(lambda x: pd.to_numeric(x, errors=\"ignore\"))\n",
      "/local/data1/simjo484/cond_env/lib/python3.12/site-packages/cmapPy/pandasGEXpress/parse_gctx.py:275: FutureWarning: errors='ignore' is deprecated and will raise in a future version. Use to_numeric without passing `errors` and catch exceptions explicitly instead\n",
      "  meta_df = meta_df.apply(lambda x: pd.to_numeric(x, errors=\"ignore\"))\n"
     ]
    },
    {
     "name": "stdout",
     "output_type": "stream",
     "text": [
      "\n",
      "The first cell has been defeated! Kernel shall be shaken, Cooling fan be splintered,\n",
      "\n",
      "A second cell has fallen. Let the hope inspire you! Victory awaits!\n",
      "\n",
      "Another cell tumbles down before our Kernels, defeated! The admins smile upon us on this glorious day!\n",
      "\n",
      "Victory is within our grasp! Fight so that the algorithms back home may live yet another day!\n",
      "\n",
      "Onwards! Victory is on the horison!\n"
     ]
    },
    {
     "name": "stderr",
     "output_type": "stream",
     "text": [
      "/tmp/ipykernel_1146801/4131779615.py:2: FutureWarning: Downcasting object dtype arrays on .fillna, .ffill, .bfill is deprecated and will change in a future version. Call result.infer_objects(copy=False) instead. To opt-in to the future behavior, set `pd.set_option('future.no_silent_downcasting', True)`\n",
      "  X = X.fillna(0)\n"
     ]
    },
    {
     "name": "stdout",
     "output_type": "stream",
     "text": [
      "\n",
      "All but one foul cell remains! Slay it!\n",
      "\n",
      "The cells have fallen! Ride now, ride now! Ride to the next Notebook!\n",
      "donor_sex: (array(['F', 'M', 'Unknown'], dtype=object), array([810350, 550335, 346790]))\n",
      "\n",
      "donor_ethnicity: (array(['Asian', 'Black', 'Caucasian', 'Japanese', 'Unknown'], dtype=object), array([  5157,  73262, 816229,  66880, 745947]))\n",
      "\n",
      "donor_tumor_phase: (array(['Metastatic', 'Primary', 'Recurrent', 'Unknown'], dtype=object), array([537379, 399574,   2547, 767975]))\n",
      "\n",
      "cell_lineage: (array(['autonomic_ganglia', 'bone', 'breast', 'central_nervous_system',\n",
      "       'cervix', 'endometrium', 'haematopoietic_and_lymphoid_tissue',\n",
      "       'kidney', 'large_intestine', 'liver', 'lung', 'ovary', 'pancreas',\n",
      "       'placenta', 'prostate', 'skin', 'soft_tissue', 'stomach',\n",
      "       'unknown', 'upper_aerodigestive_tract', 'urinary_tract'],\n",
      "      dtype=object), array([  5242,  46700, 329367,  56202,  67447,  21495, 130832, 128454,\n",
      "       110353,  42268, 187768,  17770,  58127,   4527, 175207, 123671,\n",
      "        29465,   5313, 157137,   1552,   8578]))\n",
      "\n",
      "growth_pattern: (array(['adherent', 'mix', 'suspension', 'unknown'], dtype=object), array([1141610,  126938,  123510,  315417]))\n",
      "\n",
      "primary_disease: (array(['bladder cancer', 'bone cancer', 'brain cancer', 'breast cancer',\n",
      "       'cervical cancer', 'colon cancer', 'embryonal cancer',\n",
      "       'endometrial cancer', 'gastric cancer', 'head and neck cancer',\n",
      "       'kidney cancer', 'leukemia', 'liver cancer', 'lung cancer',\n",
      "       'lymphoma', 'myeloma', 'neuroblastoma', 'normal blood sample',\n",
      "       'normal kidney sample', 'normal lung sample',\n",
      "       'normal soft tissue sample', 'normal stem cell sample',\n",
      "       'ovarian cancer', 'pancreatic cancer', 'prostate cancer',\n",
      "       'skin cancer', 'unknown'], dtype=object), array([  8578,  46700,   7354, 319140,  67447, 110353,   4336,  22985,\n",
      "         5313,   1552,   3039,  97364,  42268, 183889,  40290,   3200,\n",
      "         5770,   4732, 126933,   3879,  23611,  48320,  16280,  58127,\n",
      "       175207, 123671, 157137]))\n",
      "\n",
      "cell_type: (array(['normal', 'pool', 'tumor'], dtype=object), array([ 242016,   65894, 1399565]))\n",
      "\n",
      "Preprocessing took 49.66274547576904 seconds.\n"
     ]
    }
   ],
   "source": [
    "%run preprocess.ipynb"
   ]
  },
  {
   "cell_type": "markdown",
   "id": "5f41b8f8-be60-4297-be45-27f10022e923",
   "metadata": {},
   "source": [
    "# Train models"
   ]
  },
  {
   "cell_type": "code",
   "execution_count": 2,
   "id": "9af93585-8191-4fdf-a872-e6c241a89ad4",
   "metadata": {},
   "outputs": [
    {
     "name": "stderr",
     "output_type": "stream",
     "text": [
      "2024-12-30 09:48:46.851681: I tensorflow/core/util/port.cc:153] oneDNN custom operations are on. You may see slightly different numerical results due to floating-point round-off errors from different computation orders. To turn them off, set the environment variable `TF_ENABLE_ONEDNN_OPTS=0`.\n",
      "2024-12-30 09:48:46.852265: I external/local_xla/xla/tsl/cuda/cudart_stub.cc:32] Could not find cuda drivers on your machine, GPU will not be used.\n",
      "2024-12-30 09:48:46.854373: I external/local_xla/xla/tsl/cuda/cudart_stub.cc:32] Could not find cuda drivers on your machine, GPU will not be used.\n",
      "2024-12-30 09:48:46.859201: E external/local_xla/xla/stream_executor/cuda/cuda_fft.cc:477] Unable to register cuFFT factory: Attempting to register factory for plugin cuFFT when one has already been registered\n",
      "WARNING: All log messages before absl::InitializeLog() is called are written to STDERR\n",
      "E0000 00:00:1735548526.866982 1146801 cuda_dnn.cc:8310] Unable to register cuDNN factory: Attempting to register factory for plugin cuDNN when one has already been registered\n",
      "E0000 00:00:1735548526.869239 1146801 cuda_blas.cc:1418] Unable to register cuBLAS factory: Attempting to register factory for plugin cuBLAS when one has already been registered\n",
      "2024-12-30 09:48:46.878238: I tensorflow/core/platform/cpu_feature_guard.cc:210] This TensorFlow binary is optimized to use available CPU instructions in performance-critical operations.\n",
      "To enable the following instructions: AVX2 AVX_VNNI FMA, in other operations, rebuild TensorFlow with the appropriate compiler flags.\n"
     ]
    },
    {
     "name": "stdout",
     "output_type": "stream",
     "text": [
      "keras_models/Linear_MSE.keras\n",
      "keras_models/Linear_Cosine.keras\n",
      "keras_models/NeuNet_simp_MSE.keras\n",
      "keras_models/NeuNet_simp_Cosine.keras\n",
      "keras_models/NeuNet_comp_MSE.keras\n"
     ]
    },
    {
     "name": "stderr",
     "output_type": "stream",
     "text": [
      "2024-12-30 09:48:47.823831: E external/local_xla/xla/stream_executor/cuda/cuda_driver.cc:152] failed call to cuInit: INTERNAL: CUDA error: Failed call to cuInit: CUDA_ERROR_COMPAT_NOT_SUPPORTED_ON_DEVICE: forward compatibility was attempted on non supported HW\n",
      "2024-12-30 09:48:47.823847: I external/local_xla/xla/stream_executor/cuda/cuda_diagnostics.cc:137] retrieving CUDA diagnostic information for host: lnx00293.ad.liu.se\n",
      "2024-12-30 09:48:47.823849: I external/local_xla/xla/stream_executor/cuda/cuda_diagnostics.cc:144] hostname: lnx00293.ad.liu.se\n",
      "2024-12-30 09:48:47.823915: I external/local_xla/xla/stream_executor/cuda/cuda_diagnostics.cc:168] libcuda reported version is: 550.142.0\n",
      "2024-12-30 09:48:47.823923: I external/local_xla/xla/stream_executor/cuda/cuda_diagnostics.cc:172] kernel reported version is: 550.135.0\n",
      "2024-12-30 09:48:47.823925: E external/local_xla/xla/stream_executor/cuda/cuda_diagnostics.cc:262] kernel version 550.135.0 does not match DSO version 550.142.0 -- cannot find working devices in this configuration\n"
     ]
    },
    {
     "name": "stdout",
     "output_type": "stream",
     "text": [
      "keras_models/NeuNet_comp_Cosine.keras\n",
      "\n",
      "All models have been loaded!\n"
     ]
    }
   ],
   "source": [
    "#%run train.ipynb\n",
    "\n",
    "# === Load models ===================================================\n",
    "model_dir_name = \"keras_models\"\n",
    "model_names = [\"Linear_MSE\", \"Linear_Cosine\", \"NeuNet_simp_MSE\", \"NeuNet_simp_Cosine\", \"NeuNet_comp_MSE\", \"NeuNet_comp_Cosine\"]\n",
    "model_dict = {}\n",
    "\n",
    "from keras.models import load_model\n",
    "\n",
    "for model in model_names:\n",
    "    print(model_dir_name + \"/\" + model + \".keras\")\n",
    "    model_dict[model] = load_model(model_dir_name + \"/\" + model + \".keras\")\n",
    "\n",
    "print(\"\\nAll models have been loaded!\")\n",
    "# ==================================================================="
   ]
  },
  {
   "cell_type": "markdown",
   "id": "04cb87e8-6fc9-410c-9d89-9d932229e0c9",
   "metadata": {},
   "source": [
    "# Evaluate"
   ]
  },
  {
   "cell_type": "code",
   "execution_count": 3,
   "id": "0c9c4c5c-3f1e-4582-81cc-a8980145cfb8",
   "metadata": {},
   "outputs": [],
   "source": [
    "import matplotlib.pyplot as plt\n",
    "from tabulate import tabulate\n",
    "import numpy as np\n",
    "\n",
    "# Get metric names\n",
    "from tensorflow.keras.losses import CosineSimilarity, Huber, LogCosh, MeanAbsoluteError, MeanSquaredError\n",
    "global_metrics = [CosineSimilarity(), MeanSquaredError(), MeanAbsoluteError(), Huber(), LogCosh()]\n",
    "global_metric_names = [metric.name for metric in global_metrics]"
   ]
  },
  {
   "cell_type": "code",
   "execution_count": 4,
   "id": "d79b8f15-87bd-4992-ba81-4dc19a34bc5a",
   "metadata": {},
   "outputs": [],
   "source": [
    "# TEST REMOVE\n",
    "\n",
    "#preds_train = model_dict[\"Linear_Cosine\"].predict(X_train)\n",
    "\n",
    "#model_dict[\"Linear_MSE\"].evaluate(X_train, y_train)[1:]"
   ]
  },
  {
   "cell_type": "markdown",
   "id": "d9e70d1f-9ee6-496b-b04c-f98ac12631ae",
   "metadata": {},
   "source": [
    "## Make tables with training and validation metrics"
   ]
  },
  {
   "cell_type": "code",
   "execution_count": 5,
   "id": "c8c47056-20e8-40e2-8402-6604064b4fbb",
   "metadata": {},
   "outputs": [
    {
     "name": "stdout",
     "output_type": "stream",
     "text": [
      "\u001b[1m37349/37349\u001b[0m \u001b[32m━━━━━━━━━━━━━━━━━━━━\u001b[0m\u001b[37m\u001b[0m \u001b[1m24s\u001b[0m 644us/step - cosine_similarity: -0.1486 - huber_loss: 0.5784 - log_cosh: 0.5277 - loss: 2.2002 - mean_absolute_error: 0.9432 - mean_squared_error: 2.2002\n",
      "\u001b[1m8004/8004\u001b[0m \u001b[32m━━━━━━━━━━━━━━━━━━━━\u001b[0m\u001b[37m\u001b[0m \u001b[1m5s\u001b[0m 652us/step - cosine_similarity: -0.1485 - huber_loss: 0.5778 - log_cosh: 0.5271 - loss: 2.1940 - mean_absolute_error: 0.9426 - mean_squared_error: 2.1940\n",
      "\u001b[1m37349/37349\u001b[0m \u001b[32m━━━━━━━━━━━━━━━━━━━━\u001b[0m\u001b[37m\u001b[0m \u001b[1m24s\u001b[0m 633us/step - cosine_similarity: -0.1650 - huber_loss: 0.5823 - log_cosh: 0.5315 - loss: -0.1650 - mean_absolute_error: 0.9466 - mean_squared_error: 2.2314\n",
      "\u001b[1m8004/8004\u001b[0m \u001b[32m━━━━━━━━━━━━━━━━━━━━\u001b[0m\u001b[37m\u001b[0m \u001b[1m5s\u001b[0m 635us/step - cosine_similarity: -0.1650 - huber_loss: 0.5817 - log_cosh: 0.5308 - loss: -0.1650 - mean_absolute_error: 0.9460 - mean_squared_error: 2.2247\n",
      "\u001b[1m37349/37349\u001b[0m \u001b[32m━━━━━━━━━━━━━━━━━━━━\u001b[0m\u001b[37m\u001b[0m \u001b[1m38s\u001b[0m 1ms/step - cosine_similarity: -0.1620 - huber_loss: 0.5770 - log_cosh: 0.5262 - loss: 2.1845 - mean_absolute_error: 0.9423 - mean_squared_error: 2.1845\n",
      "\u001b[1m8004/8004\u001b[0m \u001b[32m━━━━━━━━━━━━━━━━━━━━\u001b[0m\u001b[37m\u001b[0m \u001b[1m8s\u001b[0m 1ms/step - cosine_similarity: -0.1619 - huber_loss: 0.5766 - log_cosh: 0.5258 - loss: 2.1790 - mean_absolute_error: 0.9418 - mean_squared_error: 2.1790\n",
      "\u001b[1m37349/37349\u001b[0m \u001b[32m━━━━━━━━━━━━━━━━━━━━\u001b[0m\u001b[37m\u001b[0m \u001b[1m40s\u001b[0m 1ms/step - cosine_similarity: -0.1833 - huber_loss: 0.5675 - log_cosh: 0.5192 - loss: -0.1833 - mean_absolute_error: 0.9256 - mean_squared_error: 2.2202\n",
      "\u001b[1m8004/8004\u001b[0m \u001b[32m━━━━━━━━━━━━━━━━━━━━\u001b[0m\u001b[37m\u001b[0m \u001b[1m8s\u001b[0m 1ms/step - cosine_similarity: -0.1832 - huber_loss: 0.5669 - log_cosh: 0.5186 - loss: -0.1832 - mean_absolute_error: 0.9250 - mean_squared_error: 2.2134\n",
      "\u001b[1m37349/37349\u001b[0m \u001b[32m━━━━━━━━━━━━━━━━━━━━\u001b[0m\u001b[37m\u001b[0m \u001b[1m46s\u001b[0m 1ms/step - cosine_similarity: -0.1647 - huber_loss: 0.5769 - log_cosh: 0.5260 - loss: 2.1817 - mean_absolute_error: 0.9422 - mean_squared_error: 2.1817\n",
      "\u001b[1m8004/8004\u001b[0m \u001b[32m━━━━━━━━━━━━━━━━━━━━\u001b[0m\u001b[37m\u001b[0m \u001b[1m10s\u001b[0m 1ms/step - cosine_similarity: -0.1646 - huber_loss: 0.5764 - log_cosh: 0.5256 - loss: 2.1763 - mean_absolute_error: 0.9418 - mean_squared_error: 2.1763\n",
      "\u001b[1m37349/37349\u001b[0m \u001b[32m━━━━━━━━━━━━━━━━━━━━\u001b[0m\u001b[37m\u001b[0m \u001b[1m44s\u001b[0m 1ms/step - cosine_similarity: -0.1862 - huber_loss: 0.5618 - log_cosh: 0.5149 - loss: -0.1862 - mean_absolute_error: 0.9150 - mean_squared_error: 2.2394\n",
      "\u001b[1m8004/8004\u001b[0m \u001b[32m━━━━━━━━━━━━━━━━━━━━\u001b[0m\u001b[37m\u001b[0m \u001b[1m9s\u001b[0m 1ms/step - cosine_similarity: -0.1860 - huber_loss: 0.5612 - log_cosh: 0.5143 - loss: -0.1860 - mean_absolute_error: 0.9143 - mean_squared_error: 2.2325\n"
     ]
    }
   ],
   "source": [
    "train_error_table_values = []\n",
    "valid_error_table_values = []\n",
    "for model in model_dict:\n",
    "    train_error_table_values.append(model_dict[model].evaluate(X_train, y_train)[1:]) #first value is loss, the following are the metrics (Cosine, mse, etc)\n",
    "    valid_error_table_values.append(model_dict[model].evaluate(X_valid, y_valid)[1:])"
   ]
  },
  {
   "cell_type": "code",
   "execution_count": 9,
   "id": "584b9974-4232-4562-8a14-3be78b9281f6",
   "metadata": {},
   "outputs": [
    {
     "name": "stdout",
     "output_type": "stream",
     "text": [
      "================== Table ==============================\n",
      "Train errors\n",
      "\\begin{tabular}{lrrrrr}\n",
      "\\hline\n",
      " Model              &    Cosine &     MSE &      MAE &    Huber &   LogCosh \\\\\n",
      "\\hline\n",
      " Linear\\_MSE         & -0.148429 & 2.20329 & 0.943701 & 0.578928 &  0.528192 \\\\\n",
      " Linear\\_Cosine      & -0.164833 & 2.23449 & 0.947123 & 0.582775 &  0.531923 \\\\\n",
      " NeuNet\\_simp\\_MSE    & -0.1618   & 2.18773 & 0.942843 & 0.577566 &  0.526747 \\\\\n",
      " NeuNet\\_simp\\_Cosine & -0.183118 & 2.22337 & 0.926118 & 0.568021 &  0.519649 \\\\\n",
      " NeuNet\\_comp\\_MSE    & -0.164529 & 2.18499 & 0.942763 & 0.577409 &  0.526559 \\\\\n",
      " NeuNet\\_comp\\_Cosine & -0.185976 & 2.24265 & 0.915471 & 0.562315 &  0.515404 \\\\\n",
      "\\hline\n",
      "\\end{tabular}\n",
      "=======================================================\n",
      "================== Table ==============================\n",
      "Validation errors\n",
      "\\begin{tabular}{lrrrrr}\n",
      "\\hline\n",
      " Model              &    Cosine &     MSE &      MAE &    Huber &   LogCosh \\\\\n",
      "\\hline\n",
      " Linear\\_MSE         & -0.148402 & 2.19573 & 0.942557 & 0.577826 &  0.527142 \\\\\n",
      " Linear\\_Cosine      & -0.164923 & 2.22667 & 0.945966 & 0.58167  &  0.530866 \\\\\n",
      " NeuNet\\_simp\\_MSE    & -0.161834 & 2.18038 & 0.941735 & 0.576501 &  0.525729 \\\\\n",
      " NeuNet\\_simp\\_Cosine & -0.183192 & 2.21539 & 0.924918 & 0.56688  &  0.518559 \\\\\n",
      " NeuNet\\_comp\\_MSE    & -0.16454  & 2.17771 & 0.941675 & 0.576354 &  0.525556 \\\\\n",
      " NeuNet\\_comp\\_Cosine & -0.186036 & 2.23437 & 0.914207 & 0.561118 &  0.514267 \\\\\n",
      "\\hline\n",
      "\\end{tabular}\n",
      "=======================================================\n"
     ]
    }
   ],
   "source": [
    "headers = [\"Model\", \"Cosine\", \"MSE\", \"MAE\", \"Huber\", \"LogCosh\"]\n",
    "\n",
    "\n",
    "print(\"================== Table ==============================\")\n",
    "print(\"Train errors\")\n",
    "print(tabulate(train_error_table_values,\n",
    "               tablefmt=\"latex\",\n",
    "               headers=headers,\n",
    "               showindex = [i for i in model_dict.keys()]))\n",
    "print(\"=======================================================\")\n",
    "\n",
    "\n",
    "print(\"================== Table ==============================\")\n",
    "print(\"Validation errors\")\n",
    "print(tabulate(valid_error_table_values,\n",
    "               tablefmt=\"latex\",\n",
    "               headers=headers,\n",
    "               showindex = [i for i in model_dict.keys()]))\n",
    "print(\"=======================================================\")"
   ]
  },
  {
   "cell_type": "markdown",
   "id": "28d748eb-45b0-4c7e-818b-1303258ff0fc",
   "metadata": {},
   "source": [
    "## Make a table of min and max values"
   ]
  },
  {
   "cell_type": "code",
   "execution_count": 7,
   "id": "9b03b701-07b3-4cf9-9ded-d149afb3fda5",
   "metadata": {},
   "outputs": [
    {
     "name": "stdout",
     "output_type": "stream",
     "text": [
      "\u001b[1m37349/37349\u001b[0m \u001b[32m━━━━━━━━━━━━━━━━━━━━\u001b[0m\u001b[37m\u001b[0m \u001b[1m10s\u001b[0m 279us/step\n",
      "\u001b[1m8004/8004\u001b[0m \u001b[32m━━━━━━━━━━━━━━━━━━━━\u001b[0m\u001b[37m\u001b[0m \u001b[1m2s\u001b[0m 247us/step\n",
      "\u001b[1m37349/37349\u001b[0m \u001b[32m━━━━━━━━━━━━━━━━━━━━\u001b[0m\u001b[37m\u001b[0m \u001b[1m10s\u001b[0m 268us/step\n",
      "\u001b[1m8004/8004\u001b[0m \u001b[32m━━━━━━━━━━━━━━━━━━━━\u001b[0m\u001b[37m\u001b[0m \u001b[1m2s\u001b[0m 262us/step\n",
      "\u001b[1m37349/37349\u001b[0m \u001b[32m━━━━━━━━━━━━━━━━━━━━\u001b[0m\u001b[37m\u001b[0m \u001b[1m28s\u001b[0m 761us/step\n",
      "\u001b[1m8004/8004\u001b[0m \u001b[32m━━━━━━━━━━━━━━━━━━━━\u001b[0m\u001b[37m\u001b[0m \u001b[1m6s\u001b[0m 764us/step\n",
      "\u001b[1m37349/37349\u001b[0m \u001b[32m━━━━━━━━━━━━━━━━━━━━\u001b[0m\u001b[37m\u001b[0m \u001b[1m28s\u001b[0m 749us/step\n",
      "\u001b[1m8004/8004\u001b[0m \u001b[32m━━━━━━━━━━━━━━━━━━━━\u001b[0m\u001b[37m\u001b[0m \u001b[1m6s\u001b[0m 751us/step\n",
      "\u001b[1m37349/37349\u001b[0m \u001b[32m━━━━━━━━━━━━━━━━━━━━\u001b[0m\u001b[37m\u001b[0m \u001b[1m35s\u001b[0m 926us/step\n",
      "\u001b[1m8004/8004\u001b[0m \u001b[32m━━━━━━━━━━━━━━━━━━━━\u001b[0m\u001b[37m\u001b[0m \u001b[1m7s\u001b[0m 926us/step\n",
      "\u001b[1m37349/37349\u001b[0m \u001b[32m━━━━━━━━━━━━━━━━━━━━\u001b[0m\u001b[37m\u001b[0m \u001b[1m32s\u001b[0m 855us/step\n",
      "\u001b[1m8004/8004\u001b[0m \u001b[32m━━━━━━━━━━━━━━━━━━━━\u001b[0m\u001b[37m\u001b[0m \u001b[1m7s\u001b[0m 863us/step\n",
      "================== Table below ========================\n",
      "| Model              |   Train pred min |   Train pred max |   Valid pred min |   Valid pred max |\n",
      "|--------------------|------------------|------------------|------------------|------------------|\n",
      "| Linear_MSE         |         -9.06427 |          6.151   |         -7.76043 |          5.31541 |\n",
      "| Linear_Cosine      |         -6.1608  |          8.05812 |         -5.24986 |          6.90991 |\n",
      "| NeuNet_simp_MSE    |         -6.09024 |          5.02661 |         -5.16334 |          4.26326 |\n",
      "| NeuNet_simp_Cosine |         -8.70168 |          7.63243 |         -7.38332 |          6.48473 |\n",
      "| NeuNet_comp_MSE    |         -5.16163 |          3.61392 |         -4.40735 |          3.11761 |\n",
      "| NeuNet_comp_Cosine |         -2.52998 |          2.16718 |         -2.16595 |          1.86038 |\n",
      "=======================================================\n"
     ]
    }
   ],
   "source": [
    "row_values = []\n",
    "\n",
    "for model in model_dict:\n",
    "    train_preds = model_dict[model].predict(X_train)\n",
    "\n",
    "    valid_preds = model_dict[model].predict(X_valid)\n",
    "\n",
    "    \n",
    "    row_values.append([model,\n",
    "                       float(np.min(train_preds)),\n",
    "                       float(np.max(train_preds)),\n",
    "\n",
    "                       float(np.min(valid_preds)),\n",
    "                       float(np.max(valid_preds))\n",
    "                      ])"
   ]
  },
  {
   "cell_type": "code",
   "execution_count": 11,
   "id": "c8e5e102-12f6-4479-9b28-11df7d0f06ed",
   "metadata": {},
   "outputs": [
    {
     "name": "stdout",
     "output_type": "stream",
     "text": [
      "================== Table below ========================\n",
      "\\begin{tabular}{lrrrr}\n",
      "\\hline\n",
      " Model              &   Train pred min &   Train pred max &   Valid pred min &   Valid pred max \\\\\n",
      "\\hline\n",
      " Linear\\_MSE         &         -9.06427 &          6.151   &         -7.76043 &          5.31541 \\\\\n",
      " Linear\\_Cosine      &         -6.1608  &          8.05812 &         -5.24986 &          6.90991 \\\\\n",
      " NeuNet\\_simp\\_MSE    &         -6.09024 &          5.02661 &         -5.16334 &          4.26326 \\\\\n",
      " NeuNet\\_simp\\_Cosine &         -8.70168 &          7.63243 &         -7.38332 &          6.48473 \\\\\n",
      " NeuNet\\_comp\\_MSE    &         -5.16163 &          3.61392 &         -4.40735 &          3.11761 \\\\\n",
      " NeuNet\\_comp\\_Cosine &         -2.52998 &          2.16718 &         -2.16595 &          1.86038 \\\\\n",
      "\\hline\n",
      "\\end{tabular}\n",
      "=======================================================\n"
     ]
    }
   ],
   "source": [
    "headers = [\"Model\",\n",
    "           \"Train pred min\",\n",
    "           \"Train pred max\", \n",
    "           \"Valid pred min\", \n",
    "           \"Valid pred max\"]\n",
    "\n",
    "print(\"================== Table below ========================\")\n",
    "print(tabulate(row_values,\n",
    "               tablefmt=\"latex\",\n",
    "               headers=headers))\n",
    "print(\"=======================================================\")"
   ]
  },
  {
   "cell_type": "markdown",
   "id": "f40b57d7-e98c-456d-9624-06ff8127eef5",
   "metadata": {},
   "source": [
    "# Old Code"
   ]
  },
  {
   "cell_type": "code",
   "execution_count": 8,
   "id": "1c295e25-f85e-49a4-96a0-9572c7faf161",
   "metadata": {},
   "outputs": [
    {
     "ename": "TypeError",
     "evalue": "unsupported operand type(s) for +: 'int' and 'str'",
     "output_type": "error",
     "traceback": [
      "\u001b[0;31m---------------------------------------------------------------------------\u001b[0m",
      "\u001b[0;31mTypeError\u001b[0m                                 Traceback (most recent call last)",
      "Cell \u001b[0;32mIn[8], line 1\u001b[0m\n\u001b[0;32m----> 1\u001b[0m \u001b[38;5;241;43m1\u001b[39;49m\u001b[38;5;241;43m+\u001b[39;49m\u001b[38;5;124;43m\"\u001b[39;49m\u001b[38;5;124;43mA\u001b[39;49m\u001b[38;5;124;43m\"\u001b[39;49m\n",
      "\u001b[0;31mTypeError\u001b[0m: unsupported operand type(s) for +: 'int' and 'str'"
     ]
    }
   ],
   "source": [
    "1+\"A\""
   ]
  },
  {
   "cell_type": "code",
   "execution_count": null,
   "id": "9cf56a61-ad95-490f-a141-ee851b156e9b",
   "metadata": {},
   "outputs": [],
   "source": [
    "# Evaluate on validation data\n",
    "import numpy as np\n",
    "row_values = []\n",
    "\n",
    "for model in model_dict:\n",
    "    metrics = model_dict[model].evaluate(X_valid, y_valid)\n",
    "    row_values.append([model] + metrics[1:]) #first value in metrics is loss, the following are the metrics (Cosine, mse, etc)\n",
    "\n",
    "headers = [\"Model\", \"Cosine\", \"MSE\", \"MAE\", \"Huber\", \"LogCosh\"]\n",
    "\n",
    "print(\"================== Table below ========================\")\n",
    "print(tabulate(row_values,\n",
    "               tablefmt=\"github\",\n",
    "               headers=headers))"
   ]
  },
  {
   "cell_type": "code",
   "execution_count": null,
   "id": "7016d455-e939-4849-9f20-6740d60ba4de",
   "metadata": {},
   "outputs": [],
   "source": [
    "#hist_dict[\"Linear_MSE\"].history\n",
    "\n",
    "# Loss plots\n",
    "\n",
    "fig, axs = plt.subplots(nrows=5)\n",
    "axs[0].plot(hist_dict[\"Linear_MSE\"].history[\"cosine_similarity\"])\n",
    "axs[0].plot(hist_dict[\"Linear_Cosine\"].history[\"cosine_similarity\"])\n",
    "axs[0].plot(hist_dict[\"NeuNet_simp_MSE\"].history[\"cosine_similarity\"])\n",
    "axs[0].plot(hist_dict[\"NeuNet_simp_Cosine\"].history[\"cosine_similarity\"])\n",
    "axs[0].plot(hist_dict[\"NeuNet_comp_MSE\"].history[\"cosine_similarity\"])\n",
    "axs[0].plot(hist_dict[\"NeuNet_simp_Cosine\"].history[\"cosine_similarity\"])\n",
    "#axs[0].legend([i for i in model_dict.keys()])\n",
    "\n",
    "axs[1].plot(hist_dict[\"Linear_MSE\"].history[\"mean_squared_error\"])\n",
    "axs[1].plot(hist_dict[\"Linear_Cosine\"].history[\"mean_squared_error\"])\n",
    "axs[1].plot(hist_dict[\"NeuNet_simp_MSE\"].history[\"mean_squared_error\"])\n",
    "axs[1].plot(hist_dict[\"NeuNet_simp_Cosine\"].history[\"mean_squared_error\"])\n",
    "axs[1].plot(hist_dict[\"NeuNet_comp_MSE\"].history[\"mean_squared_error\"])\n",
    "axs[1].plot(hist_dict[\"NeuNet_simp_Cosine\"].history[\"mean_squared_error\"])\n",
    "\n",
    "axs[2].plot(hist_dict[\"Linear_MSE\"].history[\"mean_absolute_error\"])\n",
    "axs[2].plot(hist_dict[\"Linear_Cosine\"].history[\"mean_absolute_error\"])\n",
    "axs[2].plot(hist_dict[\"NeuNet_simp_MSE\"].history[\"mean_absolute_error\"])\n",
    "axs[2].plot(hist_dict[\"NeuNet_simp_Cosine\"].history[\"mean_absolute_error\"])\n",
    "axs[2].plot(hist_dict[\"NeuNet_comp_MSE\"].history[\"mean_absolute_error\"])\n",
    "axs[2].plot(hist_dict[\"NeuNet_simp_Cosine\"].history[\"mean_absolute_error\"])\n",
    "\n",
    "axs[3].plot(hist_dict[\"Linear_MSE\"].history[\"huber_loss\"])\n",
    "axs[3].plot(hist_dict[\"Linear_Cosine\"].history[\"huber_loss\"])\n",
    "axs[3].plot(hist_dict[\"NeuNet_simp_MSE\"].history[\"huber_loss\"])\n",
    "axs[3].plot(hist_dict[\"NeuNet_simp_Cosine\"].history[\"huber_loss\"])\n",
    "axs[3].plot(hist_dict[\"NeuNet_comp_MSE\"].history[\"huber_loss\"])\n",
    "axs[3].plot(hist_dict[\"NeuNet_simp_Cosine\"].history[\"huber_loss\"])\n",
    "\n",
    "axs[4].plot(hist_dict[\"Linear_MSE\"].history[\"log_cosh\"])\n",
    "axs[4].plot(hist_dict[\"Linear_Cosine\"].history[\"log_cosh\"])\n",
    "axs[4].plot(hist_dict[\"NeuNet_simp_MSE\"].history[\"log_cosh\"])\n",
    "axs[4].plot(hist_dict[\"NeuNet_simp_Cosine\"].history[\"log_cosh\"])\n",
    "axs[4].plot(hist_dict[\"NeuNet_comp_MSE\"].history[\"log_cosh\"])\n",
    "axs[4].plot(hist_dict[\"NeuNet_simp_Cosine\"].history[\"log_cosh\"])\n",
    "\n",
    "axs[4].legend([i for i in model_dict.keys()])"
   ]
  },
  {
   "cell_type": "code",
   "execution_count": null,
   "id": "2b1c7a7d-6e44-4604-9663-2f93f04ff112",
   "metadata": {},
   "outputs": [],
   "source": [
    "[history.history for history in hist_dict.values()][0]\n",
    "\n",
    "table_values = [[hist.history[metric][0] for metric in global_metric_names] for hist in hist_dict.values()]\n",
    "\n",
    "print([\"Model\"] + [i().name for i in global_metrics])\n",
    "headers = [\"Model\", \"Cosine\", \"MSE\", \"MAE\", \"Huber\", \"LogCosh\"]\n",
    "\n",
    "print(\"================== Table below ========================\")\n",
    "print(tabulate(table_values,\n",
    "               tablefmt=\"latex\",\n",
    "               headers=headers,\n",
    "               showindex = [i for i in model_dict.keys()]))"
   ]
  }
 ],
 "metadata": {
  "kernelspec": {
   "display_name": "Python 3 (ipykernel)",
   "language": "python",
   "name": "python3"
  },
  "language_info": {
   "codemirror_mode": {
    "name": "ipython",
    "version": 3
   },
   "file_extension": ".py",
   "mimetype": "text/x-python",
   "name": "python",
   "nbconvert_exporter": "python",
   "pygments_lexer": "ipython3",
   "version": "3.12.8"
  }
 },
 "nbformat": 4,
 "nbformat_minor": 5
}
