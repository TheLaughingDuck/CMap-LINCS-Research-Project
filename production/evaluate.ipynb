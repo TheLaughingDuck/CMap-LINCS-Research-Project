{
 "cells": [
  {
   "cell_type": "markdown",
   "id": "90691eda-4839-4123-b684-a80dddcd6da6",
   "metadata": {},
   "source": [
    "# Preprocess"
   ]
  },
  {
   "cell_type": "code",
   "execution_count": 1,
   "id": "8d77a6c3-c9b8-4fe1-8118-100ad51cf9a8",
   "metadata": {},
   "outputs": [
    {
     "name": "stdout",
     "output_type": "stream",
     "text": [
      "Arise, arise, Kernels of the motherboard!\n"
     ]
    },
    {
     "name": "stderr",
     "output_type": "stream",
     "text": [
      "/local/data1/simjo484/cond_env/lib/python3.12/site-packages/cmapPy/pandasGEXpress/parse_gctx.py:275: FutureWarning: errors='ignore' is deprecated and will raise in a future version. Use to_numeric without passing `errors` and catch exceptions explicitly instead\n",
      "  meta_df = meta_df.apply(lambda x: pd.to_numeric(x, errors=\"ignore\"))\n",
      "/local/data1/simjo484/cond_env/lib/python3.12/site-packages/cmapPy/pandasGEXpress/parse_gctx.py:275: FutureWarning: errors='ignore' is deprecated and will raise in a future version. Use to_numeric without passing `errors` and catch exceptions explicitly instead\n",
      "  meta_df = meta_df.apply(lambda x: pd.to_numeric(x, errors=\"ignore\"))\n"
     ]
    },
    {
     "name": "stdout",
     "output_type": "stream",
     "text": [
      "The first cell has been defeated! Kernel shall be shaken, Cooling fan be splintered,\n",
      "A second cell has fallen. Let the hope inspire you! Victory awaits!\n",
      "Another cell tumbles down before our Kernels, defeated! The admins smile upon us on this glorious day!\n",
      "Victory is within our grasp! Fight so that the algorithms back home may live yet another day!\n",
      "Onwards! Victory is on the horison!\n"
     ]
    },
    {
     "name": "stderr",
     "output_type": "stream",
     "text": [
      "/tmp/ipykernel_893878/492684487.py:2: FutureWarning: Downcasting object dtype arrays on .fillna, .ffill, .bfill is deprecated and will change in a future version. Call result.infer_objects(copy=False) instead. To opt-in to the future behavior, set `pd.set_option('future.no_silent_downcasting', True)`\n",
      "  X = X.fillna(0)\n"
     ]
    },
    {
     "name": "stdout",
     "output_type": "stream",
     "text": [
      "All but one foul cell remains! Slay it!\n",
      "The cells have fallen! Ride now, ride now! Ride to the next Notebook!\n"
     ]
    }
   ],
   "source": [
    "#%run preprocess.ipynb"
   ]
  },
  {
   "cell_type": "markdown",
   "id": "5f41b8f8-be60-4297-be45-27f10022e923",
   "metadata": {},
   "source": [
    "# Train models"
   ]
  },
  {
   "cell_type": "code",
   "execution_count": 8,
   "id": "9af93585-8191-4fdf-a872-e6c241a89ad4",
   "metadata": {},
   "outputs": [
    {
     "name": "stdout",
     "output_type": "stream",
     "text": [
      "keras_models/Linear_MSE.keras\n",
      "keras_models/Linear_Cosine.keras\n",
      "keras_models/NeuNet_simp_MSE.keras\n",
      "keras_models/NeuNet_simp_Cosine.keras\n",
      "keras_models/NeuNet_comp_MSE.keras\n",
      "keras_models/NeuNet_comp_Cosine.keras\n",
      "All models have been loaded\n"
     ]
    }
   ],
   "source": [
    "#%run train.ipynb\n",
    "\n",
    "# === Load models ===================================================\n",
    "model_dir_name = \"keras_models\"\n",
    "model_names = [\"Linear_MSE\", \"Linear_Cosine\", \"NeuNet_simp_MSE\", \"NeuNet_simp_Cosine\", \"NeuNet_comp_MSE\", \"NeuNet_comp_Cosine\"]\n",
    "model_dict = {}\n",
    "\n",
    "from keras.models import load_model\n",
    "\n",
    "for model in model_names:\n",
    "    print(model_dir_name + \"/\" + model + \".keras\")\n",
    "    model_dict[model] = load_model(model_dir_name + \"/\" + model + \".keras\")\n",
    "\n",
    "print(\"\\nAll models have been loaded!\")\n",
    "# ==================================================================="
   ]
  },
  {
   "cell_type": "markdown",
   "id": "04cb87e8-6fc9-410c-9d89-9d932229e0c9",
   "metadata": {},
   "source": [
    "# Evaluate"
   ]
  },
  {
   "cell_type": "code",
   "execution_count": 3,
   "id": "0c9c4c5c-3f1e-4582-81cc-a8980145cfb8",
   "metadata": {},
   "outputs": [],
   "source": [
    "import matplotlib.pyplot as plt\n",
    "from tabulate import tabulate"
   ]
  },
  {
   "cell_type": "markdown",
   "id": "d9e70d1f-9ee6-496b-b04c-f98ac12631ae",
   "metadata": {},
   "source": [
    "## Make a table of final (training) metrics"
   ]
  },
  {
   "cell_type": "code",
   "execution_count": 4,
   "id": "257a145b-2caf-4761-96fe-4025417e3f8a",
   "metadata": {},
   "outputs": [
    {
     "name": "stdout",
     "output_type": "stream",
     "text": [
      "['Model', 'cosine_similarity', 'mean_squared_error', 'mean_absolute_error', 'huber_loss', 'log_cosh']\n",
      "================== Table below ========================\n",
      "\\begin{tabular}{lrrrrr}\n",
      "\\hline\n",
      " Model              &    Cosine &     MSE &      MAE &    Huber &   LogCosh \\\\\n",
      "\\hline\n",
      " Linear\\_MSE         & -0.122682 & 2.23879 & 0.932984 & 0.573508 &  0.524489 \\\\\n",
      " Linear\\_Cosine      & -0.135108 & 4.26161 & 1.42492  & 1.01339  &  0.927472 \\\\\n",
      " NeuNet\\_simp\\_MSE    & -0.126781 & 2.22769 & 0.934866 & 0.574278 &  0.524901 \\\\\n",
      " NeuNet\\_simp\\_Cosine & -0.138649 & 2.85246 & 1.14833  & 0.757326 &  0.688791 \\\\\n",
      " NeuNet\\_comp\\_MSE    & -0.124389 & 2.22911 & 0.934212 & 0.573906 &  0.524627 \\\\\n",
      " NeuNet\\_comp\\_Cosine & -0.139939 & 2.27987 & 0.936648 & 0.578721 &  0.529617 \\\\\n",
      "\\hline\n",
      "\\end{tabular}\n"
     ]
    }
   ],
   "source": [
    "[history.history for history in hist_dict.values()][0]\n",
    "\n",
    "table_values = [[hist.history[metric][0] for metric in global_metric_names] for hist in hist_dict.values()]\n",
    "\n",
    "print([\"Model\"] + [i().name for i in global_metrics])\n",
    "headers = [\"Model\", \"Cosine\", \"MSE\", \"MAE\", \"Huber\", \"LogCosh\"]\n",
    "\n",
    "print(\"================== Table below ========================\")\n",
    "print(tabulate(table_values,\n",
    "               tablefmt=\"latex\",\n",
    "               headers=headers,\n",
    "               showindex = [i for i in model_dict.keys()]))"
   ]
  },
  {
   "cell_type": "markdown",
   "id": "2405b300-dc94-4aa5-bc71-3e5b24ee6660",
   "metadata": {},
   "source": [
    "## Make a table of validation metrics"
   ]
  },
  {
   "cell_type": "code",
   "execution_count": 41,
   "id": "c2fa5e16-1dc9-4c1c-9eb7-2abddc87c7a2",
   "metadata": {},
   "outputs": [
    {
     "name": "stdout",
     "output_type": "stream",
     "text": [
      "\u001b[1m8004/8004\u001b[0m \u001b[32m━━━━━━━━━━━━━━━━━━━━\u001b[0m\u001b[37m\u001b[0m \u001b[1m5s\u001b[0m 595us/step - cosine_similarity: -0.1378 - huber_loss: 0.5777 - log_cosh: 0.5275 - loss: 2.2173 - mean_absolute_error: 0.9412 - mean_squared_error: 2.2173\n",
      "\u001b[1m8004/8004\u001b[0m \u001b[32m━━━━━━━━━━━━━━━━━━━━\u001b[0m\u001b[37m\u001b[0m \u001b[1m5s\u001b[0m 590us/step - cosine_similarity: -0.1548 - huber_loss: 0.5760 - log_cosh: 0.5267 - loss: -0.1548 - mean_absolute_error: 0.9358 - mean_squared_error: 2.2497\n",
      "\u001b[1m8004/8004\u001b[0m \u001b[32m━━━━━━━━━━━━━━━━━━━━\u001b[0m\u001b[37m\u001b[0m \u001b[1m7s\u001b[0m 931us/step - cosine_similarity: -0.1495 - huber_loss: 0.5783 - log_cosh: 0.5277 - loss: 2.2059 - mean_absolute_error: 0.9427 - mean_squared_error: 2.2059\n",
      "\u001b[1m8004/8004\u001b[0m \u001b[32m━━━━━━━━━━━━━━━━━━━━\u001b[0m\u001b[37m\u001b[0m \u001b[1m8s\u001b[0m 945us/step - cosine_similarity: -0.1666 - huber_loss: 0.5662 - log_cosh: 0.5188 - loss: -0.1666 - mean_absolute_error: 0.9209 - mean_squared_error: 2.2887\n",
      "\u001b[1m8004/8004\u001b[0m \u001b[32m━━━━━━━━━━━━━━━━━━━━\u001b[0m\u001b[37m\u001b[0m \u001b[1m8s\u001b[0m 1ms/step - cosine_similarity: -0.1506 - huber_loss: 0.5781 - log_cosh: 0.5275 - loss: 2.2048 - mean_absolute_error: 0.9425 - mean_squared_error: 2.2048\n",
      "\u001b[1m8004/8004\u001b[0m \u001b[32m━━━━━━━━━━━━━━━━━━━━\u001b[0m\u001b[37m\u001b[0m \u001b[1m9s\u001b[0m 1ms/step - cosine_similarity: -0.1681 - huber_loss: 0.5637 - log_cosh: 0.5168 - loss: -0.1681 - mean_absolute_error: 0.9166 - mean_squared_error: 2.2619\n",
      "================== Table below ========================\n",
      "| Model              |    Cosine |     MSE |      MAE |    Huber |   LogCosh |\n",
      "|--------------------|-----------|---------|----------|----------|-----------|\n",
      "| Linear_MSE         | -0.137847 | 2.21829 | 0.941694 | 0.578121 |  0.527824 |\n",
      "| Linear_Cosine      | -0.1549   | 2.25111 | 0.936469 | 0.576519 |  0.527201 |\n",
      "| NeuNet_simp_MSE    | -0.149676 | 2.20641 | 0.943052 | 0.578628 |  0.528004 |\n",
      "| NeuNet_simp_Cosine | -0.166808 | 2.31045 | 0.922024 | 0.567277 |  0.519862 |\n",
      "| NeuNet_comp_MSE    | -0.150892 | 2.20529 | 0.942917 | 0.578444 |  0.527818 |\n",
      "| NeuNet_comp_Cosine | -0.168311 | 2.26727 | 0.91729  | 0.564367 |  0.517436 |\n"
     ]
    }
   ],
   "source": [
    "# Evaluate on validation data\n",
    "import numpy as np\n",
    "row_values = []\n",
    "\n",
    "for model in model_dict:\n",
    "    metrics = model_dict[model].evaluate(X_valid, y_valid)\n",
    "    row_values.append([model] + metrics[1:]) #first value in metrics is loss, the following are the metrics (Cosie, mse, etc)\n",
    "\n",
    "headers = [\"Model\", \"Cosine\", \"MSE\", \"MAE\", \"Huber\", \"LogCosh\"]\n",
    "\n",
    "print(\"================== Table below ========================\")\n",
    "print(tabulate(row_values,\n",
    "               tablefmt=\"github\",\n",
    "               headers=headers))"
   ]
  },
  {
   "cell_type": "markdown",
   "id": "28d748eb-45b0-4c7e-818b-1303258ff0fc",
   "metadata": {},
   "source": [
    "## Make a table of min and max values"
   ]
  },
  {
   "cell_type": "code",
   "execution_count": 42,
   "id": "9b03b701-07b3-4cf9-9ded-d149afb3fda5",
   "metadata": {},
   "outputs": [
    {
     "name": "stdout",
     "output_type": "stream",
     "text": [
      "\u001b[1m37349/37349\u001b[0m \u001b[32m━━━━━━━━━━━━━━━━━━━━\u001b[0m\u001b[37m\u001b[0m \u001b[1m9s\u001b[0m 249us/step\n",
      "\u001b[1m8004/8004\u001b[0m \u001b[32m━━━━━━━━━━━━━━━━━━━━\u001b[0m\u001b[37m\u001b[0m \u001b[1m2s\u001b[0m 216us/step\n",
      "\u001b[1m37349/37349\u001b[0m \u001b[32m━━━━━━━━━━━━━━━━━━━━\u001b[0m\u001b[37m\u001b[0m \u001b[1m9s\u001b[0m 239us/step\n",
      "\u001b[1m8004/8004\u001b[0m \u001b[32m━━━━━━━━━━━━━━━━━━━━\u001b[0m\u001b[37m\u001b[0m \u001b[1m2s\u001b[0m 229us/step\n",
      "\u001b[1m37349/37349\u001b[0m \u001b[32m━━━━━━━━━━━━━━━━━━━━\u001b[0m\u001b[37m\u001b[0m \u001b[1m26s\u001b[0m 690us/step\n",
      "\u001b[1m8004/8004\u001b[0m \u001b[32m━━━━━━━━━━━━━━━━━━━━\u001b[0m\u001b[37m\u001b[0m \u001b[1m5s\u001b[0m 675us/step\n",
      "\u001b[1m37349/37349\u001b[0m \u001b[32m━━━━━━━━━━━━━━━━━━━━\u001b[0m\u001b[37m\u001b[0m \u001b[1m26s\u001b[0m 684us/step\n",
      "\u001b[1m8004/8004\u001b[0m \u001b[32m━━━━━━━━━━━━━━━━━━━━\u001b[0m\u001b[37m\u001b[0m \u001b[1m5s\u001b[0m 684us/step\n",
      "\u001b[1m37349/37349\u001b[0m \u001b[32m━━━━━━━━━━━━━━━━━━━━\u001b[0m\u001b[37m\u001b[0m \u001b[1m27s\u001b[0m 727us/step\n",
      "\u001b[1m8004/8004\u001b[0m \u001b[32m━━━━━━━━━━━━━━━━━━━━\u001b[0m\u001b[37m\u001b[0m \u001b[1m6s\u001b[0m 732us/step\n",
      "\u001b[1m37349/37349\u001b[0m \u001b[32m━━━━━━━━━━━━━━━━━━━━\u001b[0m\u001b[37m\u001b[0m \u001b[1m28s\u001b[0m 742us/step\n",
      "\u001b[1m8004/8004\u001b[0m \u001b[32m━━━━━━━━━━━━━━━━━━━━\u001b[0m\u001b[37m\u001b[0m \u001b[1m6s\u001b[0m 742us/step\n",
      "================== Table below ========================\n",
      "| Model              |   Train pred min |   Train pred max |   Valid pred min |   Valid pred max |\n",
      "|--------------------|------------------|------------------|------------------|------------------|\n",
      "| Linear_MSE         |         -6.42612 |         10.2857  |         -6.42612 |         10.2857  |\n",
      "| Linear_Cosine      |        -15.8652  |         14.1729  |        -15.8652  |         14.1729  |\n",
      "| NeuNet_simp_MSE    |         -5.55986 |          4.34551 |         -5.55986 |          4.34551 |\n",
      "| NeuNet_simp_Cosine |        -76.107   |         77.8063  |        -76.107   |         77.8063  |\n",
      "| NeuNet_comp_MSE    |         -5.43143 |          4.06608 |         -5.43143 |          4.06608 |\n",
      "| NeuNet_comp_Cosine |        -33.6038  |         33.0839  |        -33.6038  |         33.0839  |\n"
     ]
    }
   ],
   "source": [
    "import numpy as np\n",
    "row_values = []\n",
    "\n",
    "for model in model_dict:\n",
    "    train_preds = model_dict[model].predict(X_train)\n",
    "\n",
    "    valid_preds = model_dict[model].predict(X_valid)\n",
    "\n",
    "    \n",
    "    row_values.append([model,\n",
    "                       float(np.min(train_preds)),\n",
    "                       float(np.max(train_preds)),\n",
    "\n",
    "                       float(np.min(valid_preds)),\n",
    "                       float(np.max(valid_preds))\n",
    "                      ])\n",
    "\n",
    "headers = [\"Model\",\n",
    "           \"Train pred min\",\n",
    "           \"Train pred max\", \n",
    "           \"Valid pred min\", \n",
    "           \"Valid pred max\"]\n",
    "\n",
    "print(\"================== Table below ========================\")\n",
    "print(tabulate(row_values,\n",
    "               tablefmt=\"github\",\n",
    "               headers=headers))"
   ]
  },
  {
   "cell_type": "markdown",
   "id": "dc3b926e-d662-4202-b976-72446093ef5f",
   "metadata": {},
   "source": [
    "## Make a plot of losses"
   ]
  },
  {
   "cell_type": "code",
   "execution_count": 9,
   "id": "4f800c5b-83c6-4f3e-840d-d386c3afe022",
   "metadata": {},
   "outputs": [
    {
     "data": {
      "text/plain": [
       "['cosine_similarity',\n",
       " 'mean_squared_error',\n",
       " 'mean_absolute_error',\n",
       " 'huber_loss',\n",
       " 'log_cosh']"
      ]
     },
     "execution_count": 9,
     "metadata": {},
     "output_type": "execute_result"
    }
   ],
   "source": [
    "[i().name for i in global_metrics]"
   ]
  },
  {
   "cell_type": "code",
   "execution_count": 27,
   "id": "7016d455-e939-4849-9f20-6740d60ba4de",
   "metadata": {},
   "outputs": [
    {
     "data": {
      "text/plain": [
       "<matplotlib.legend.Legend at 0x7fca65ceb260>"
      ]
     },
     "execution_count": 27,
     "metadata": {},
     "output_type": "execute_result"
    },
    {
     "data": {
      "image/png": "[encoded data removed]",
      "text/plain": [
       "<Figure size 640x480 with 5 Axes>"
      ]
     },
     "metadata": {},
     "output_type": "display_data"
    }
   ],
   "source": [
    "#hist_dict[\"Linear_MSE\"].history\n",
    "\n",
    "fig, axs = plt.subplots(nrows=5)\n",
    "axs[0].plot(hist_dict[\"Linear_MSE\"].history[\"cosine_similarity\"])\n",
    "axs[0].plot(hist_dict[\"Linear_Cosine\"].history[\"cosine_similarity\"])\n",
    "axs[0].plot(hist_dict[\"NeuNet_simp_MSE\"].history[\"cosine_similarity\"])\n",
    "axs[0].plot(hist_dict[\"NeuNet_simp_Cosine\"].history[\"cosine_similarity\"])\n",
    "axs[0].plot(hist_dict[\"NeuNet_comp_MSE\"].history[\"cosine_similarity\"])\n",
    "axs[0].plot(hist_dict[\"NeuNet_simp_Cosine\"].history[\"cosine_similarity\"])\n",
    "#axs[0].legend([i for i in model_dict.keys()])\n",
    "\n",
    "axs[1].plot(hist_dict[\"Linear_MSE\"].history[\"mean_squared_error\"])\n",
    "axs[1].plot(hist_dict[\"Linear_Cosine\"].history[\"mean_squared_error\"])\n",
    "axs[1].plot(hist_dict[\"NeuNet_simp_MSE\"].history[\"mean_squared_error\"])\n",
    "axs[1].plot(hist_dict[\"NeuNet_simp_Cosine\"].history[\"mean_squared_error\"])\n",
    "axs[1].plot(hist_dict[\"NeuNet_comp_MSE\"].history[\"mean_squared_error\"])\n",
    "axs[1].plot(hist_dict[\"NeuNet_simp_Cosine\"].history[\"mean_squared_error\"])\n",
    "\n",
    "axs[2].plot(hist_dict[\"Linear_MSE\"].history[\"mean_absolute_error\"])\n",
    "axs[2].plot(hist_dict[\"Linear_Cosine\"].history[\"mean_absolute_error\"])\n",
    "axs[2].plot(hist_dict[\"NeuNet_simp_MSE\"].history[\"mean_absolute_error\"])\n",
    "axs[2].plot(hist_dict[\"NeuNet_simp_Cosine\"].history[\"mean_absolute_error\"])\n",
    "axs[2].plot(hist_dict[\"NeuNet_comp_MSE\"].history[\"mean_absolute_error\"])\n",
    "axs[2].plot(hist_dict[\"NeuNet_simp_Cosine\"].history[\"mean_absolute_error\"])\n",
    "\n",
    "axs[3].plot(hist_dict[\"Linear_MSE\"].history[\"huber_loss\"])\n",
    "axs[3].plot(hist_dict[\"Linear_Cosine\"].history[\"huber_loss\"])\n",
    "axs[3].plot(hist_dict[\"NeuNet_simp_MSE\"].history[\"huber_loss\"])\n",
    "axs[3].plot(hist_dict[\"NeuNet_simp_Cosine\"].history[\"huber_loss\"])\n",
    "axs[3].plot(hist_dict[\"NeuNet_comp_MSE\"].history[\"huber_loss\"])\n",
    "axs[3].plot(hist_dict[\"NeuNet_simp_Cosine\"].history[\"huber_loss\"])\n",
    "\n",
    "axs[4].plot(hist_dict[\"Linear_MSE\"].history[\"log_cosh\"])\n",
    "axs[4].plot(hist_dict[\"Linear_Cosine\"].history[\"log_cosh\"])\n",
    "axs[4].plot(hist_dict[\"NeuNet_simp_MSE\"].history[\"log_cosh\"])\n",
    "axs[4].plot(hist_dict[\"NeuNet_simp_Cosine\"].history[\"log_cosh\"])\n",
    "axs[4].plot(hist_dict[\"NeuNet_comp_MSE\"].history[\"log_cosh\"])\n",
    "axs[4].plot(hist_dict[\"NeuNet_simp_Cosine\"].history[\"log_cosh\"])\n",
    "\n",
    "axs[4].legend([i for i in model_dict.keys()])"
   ]
  },
  {
   "cell_type": "code",
   "execution_count": null,
   "id": "aa3a4eb3-75e5-47db-8ffb-09b2e0a0ca4d",
   "metadata": {},
   "outputs": [],
   "source": []
  }
 ],
 "metadata": {
  "kernelspec": {
   "display_name": "Python 3 (ipykernel)",
   "language": "python",
   "name": "python3"
  },
  "language_info": {
   "codemirror_mode": {
    "name": "ipython",
    "version": 3
   },
   "file_extension": ".py",
   "mimetype": "text/x-python",
   "name": "python",
   "nbconvert_exporter": "python",
   "pygments_lexer": "ipython3",
   "version": "3.12.8"
  }
 },
 "nbformat": 4,
 "nbformat_minor": 5
}
