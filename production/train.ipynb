{
 "cells": [
  {
   "cell_type": "markdown",
   "id": "dd1473ad-cf51-4ca1-936d-b7686e9694a4",
   "metadata": {},
   "source": [
    "# Preprocess"
   ]
  },
  {
   "cell_type": "code",
   "execution_count": 1,
   "id": "492b13f0-11bc-4281-95ae-85acbf8aedfb",
   "metadata": {},
   "outputs": [
    {
     "name": "stdout",
     "output_type": "stream",
     "text": [
      "Arise, arise, Kernels of the motherboard!\n"
     ]
    },
    {
     "name": "stderr",
     "output_type": "stream",
     "text": [
      "/local/data1/simjo484/cond_env/lib/python3.12/site-packages/cmapPy/pandasGEXpress/parse_gctx.py:275: FutureWarning: errors='ignore' is deprecated and will raise in a future version. Use to_numeric without passing `errors` and catch exceptions explicitly instead\n",
      "  meta_df = meta_df.apply(lambda x: pd.to_numeric(x, errors=\"ignore\"))\n",
      "/local/data1/simjo484/cond_env/lib/python3.12/site-packages/cmapPy/pandasGEXpress/parse_gctx.py:275: FutureWarning: errors='ignore' is deprecated and will raise in a future version. Use to_numeric without passing `errors` and catch exceptions explicitly instead\n",
      "  meta_df = meta_df.apply(lambda x: pd.to_numeric(x, errors=\"ignore\"))\n"
     ]
    },
    {
     "name": "stdout",
     "output_type": "stream",
     "text": [
      "The first cell has been defeated! Kernel shall be shaken, Cooling fan be splintered,\n",
      "A second cell has fallen. Let the hope inspire you! Victory awaits!\n",
      "Another cell tumbles down before our Kernels, defeated! The admins smile upon us on this glorious day!\n",
      "Victory is within our grasp! Fight so that the algorithms back home may live yet another day!\n",
      "Onwards! Victory is on the horison!\n"
     ]
    },
    {
     "name": "stderr",
     "output_type": "stream",
     "text": [
      "/tmp/ipykernel_948129/492684487.py:2: FutureWarning: Downcasting object dtype arrays on .fillna, .ffill, .bfill is deprecated and will change in a future version. Call result.infer_objects(copy=False) instead. To opt-in to the future behavior, set `pd.set_option('future.no_silent_downcasting', True)`\n",
      "  X = X.fillna(0)\n"
     ]
    },
    {
     "name": "stdout",
     "output_type": "stream",
     "text": [
      "All but one foul cell remains! Slay it!\n",
      "The cells have fallen! Ride now, ride now! Ride to the next Notebook!\n"
     ]
    }
   ],
   "source": [
    "# To run this notebook by itself, first uncomment this line:\n",
    "%run preprocess.ipynb\n",
    "\n",
    "# === Load variables ================================================\n",
    "#import numpy as np\n",
    "#data_dir_name = \"preprocessed_data\"\n",
    "#X_train = np.load(data_dir_name + \"/\" + \"X_train.npy\")\n",
    "#X_valid = np.load(data_dir_name + \"/\" + \"X_valid.npy\")\n",
    "#X_test = np.load(data_dir_name + \"/\" + \"X_test.npy\")\n",
    "\n",
    "#y_train = np.load(data_dir_name + \"/\" + \"y_train.npy\")\n",
    "#y_valid = np.load(data_dir_name + \"/\" + \"y_valid.npy\")\n",
    "#y_test = np.load(data_dir_name + \"/\" + \"y_test.npy\")\n",
    "# ==================================================================="
   ]
  },
  {
   "cell_type": "markdown",
   "id": "5f087fe7-69f0-475f-9ba5-48bb90988ac3",
   "metadata": {},
   "source": [
    "# Design and Train models"
   ]
  },
  {
   "cell_type": "code",
   "execution_count": 2,
   "id": "2ad68b16-148c-499c-940b-ae0dd1d88c8f",
   "metadata": {},
   "outputs": [
    {
     "name": "stderr",
     "output_type": "stream",
     "text": [
      "2024-12-28 17:57:43.023579: I tensorflow/core/util/port.cc:153] oneDNN custom operations are on. You may see slightly different numerical results due to floating-point round-off errors from different computation orders. To turn them off, set the environment variable `TF_ENABLE_ONEDNN_OPTS=0`.\n",
      "2024-12-28 17:57:43.024187: I external/local_xla/xla/tsl/cuda/cudart_stub.cc:32] Could not find cuda drivers on your machine, GPU will not be used.\n",
      "2024-12-28 17:57:43.026326: I external/local_xla/xla/tsl/cuda/cudart_stub.cc:32] Could not find cuda drivers on your machine, GPU will not be used.\n",
      "2024-12-28 17:57:43.031383: E external/local_xla/xla/stream_executor/cuda/cuda_fft.cc:477] Unable to register cuFFT factory: Attempting to register factory for plugin cuFFT when one has already been registered\n",
      "WARNING: All log messages before absl::InitializeLog() is called are written to STDERR\n",
      "E0000 00:00:1735405063.048998  948129 cuda_dnn.cc:8310] Unable to register cuDNN factory: Attempting to register factory for plugin cuDNN when one has already been registered\n",
      "E0000 00:00:1735405063.051530  948129 cuda_blas.cc:1418] Unable to register cuBLAS factory: Attempting to register factory for plugin cuBLAS when one has already been registered\n",
      "2024-12-28 17:57:43.068476: I tensorflow/core/platform/cpu_feature_guard.cc:210] This TensorFlow binary is optimized to use available CPU instructions in performance-critical operations.\n",
      "To enable the following instructions: AVX2 AVX_VNNI FMA, in other operations, rebuild TensorFlow with the appropriate compiler flags.\n"
     ]
    },
    {
     "name": "stdout",
     "output_type": "stream",
     "text": [
      "Start of timekeeping.\n",
      "\n"
     ]
    }
   ],
   "source": [
    "# Model design\n",
    "from tensorflow.keras.optimizers import SGD\n",
    "from tensorflow.keras.models import Model\n",
    "from tensorflow.keras.layers import Input, Dense\n",
    "from tensorflow.keras.losses import CosineSimilarity, Huber, LogCosh, MeanAbsoluteError, MeanSquaredError\n",
    "\n",
    "model_dict = {}\n",
    "hist_dict = {}\n",
    "global_metrics = [CosineSimilarity(), MeanSquaredError(), MeanAbsoluteError(), Huber(), LogCosh()]\n",
    "global_metric_names = [metric.name for metric in global_metrics]\n",
    "\n",
    "# Model saving\n",
    "from keras.models import load_model\n",
    "\n",
    "# Training parameters\n",
    "n_epochs = 40\n",
    "batch_size = 200\n",
    "verbose = 0\n",
    "\n",
    "# Timekeeping\n",
    "import time\n",
    "print(\"Start of timekeeping.\\n\")\n",
    "start_time = time.time()"
   ]
  },
  {
   "cell_type": "markdown",
   "id": "40bae591-6867-448b-a0c4-bbab23afd9b2",
   "metadata": {},
   "source": [
    "## Linear models"
   ]
  },
  {
   "cell_type": "code",
   "execution_count": 3,
   "id": "314bf86e-04a8-4f30-87e3-876599e2eef0",
   "metadata": {},
   "outputs": [
    {
     "name": "stderr",
     "output_type": "stream",
     "text": [
      "2024-12-28 17:57:47.348959: E external/local_xla/xla/stream_executor/cuda/cuda_driver.cc:152] failed call to cuInit: INTERNAL: CUDA error: Failed call to cuInit: CUDA_ERROR_COMPAT_NOT_SUPPORTED_ON_DEVICE: forward compatibility was attempted on non supported HW\n",
      "2024-12-28 17:57:47.348978: I external/local_xla/xla/stream_executor/cuda/cuda_diagnostics.cc:137] retrieving CUDA diagnostic information for host: lnx00293.ad.liu.se\n",
      "2024-12-28 17:57:47.348981: I external/local_xla/xla/stream_executor/cuda/cuda_diagnostics.cc:144] hostname: lnx00293.ad.liu.se\n",
      "2024-12-28 17:57:47.349046: I external/local_xla/xla/stream_executor/cuda/cuda_diagnostics.cc:168] libcuda reported version is: 550.142.0\n",
      "2024-12-28 17:57:47.349056: I external/local_xla/xla/stream_executor/cuda/cuda_diagnostics.cc:172] kernel reported version is: 550.135.0\n",
      "2024-12-28 17:57:47.349058: E external/local_xla/xla/stream_executor/cuda/cuda_diagnostics.cc:262] kernel version 550.135.0 does not match DSO version 550.142.0 -- cannot find working devices in this configuration\n"
     ]
    },
    {
     "name": "stdout",
     "output_type": "stream",
     "text": [
      "Model Linear_MSE has been trained!\n",
      "Time since start of timekeeping: 260.89996695518494 seconds\n",
      "\n"
     ]
    }
   ],
   "source": [
    "name = \"Linear_MSE\"\n",
    "\n",
    "# === INPUT ==================================\n",
    "x_in = Input(shape=X_train.shape[1:])\n",
    "x = x_in\n",
    "# === Hidden layers ==========================\n",
    "# No hidden layers\n",
    "# === OUTPUT =================================\n",
    "x_out = Dense(978)(x) # default activation is linear\n",
    "# ============================================\n",
    "\n",
    "\n",
    "# === MODEL ==================================\n",
    "model = Model(inputs=x_in, outputs=x_out, name=name)\n",
    "# ============================================\n",
    "\n",
    "\n",
    "# === Compile and save model =================\n",
    "sgd = SGD(learning_rate=0.01, momentum=0.9, nesterov=True)\n",
    "model.compile(loss=MeanSquaredError(), metrics=global_metrics, optimizer=sgd)\n",
    "#model.summary(0)\n",
    "model_dict[name] = model\n",
    "# ============================================\n",
    "\n",
    "\n",
    "# === TRAIN model ============================\n",
    "hist_dict[name] = model.fit(X_train,y_train, epochs=n_epochs, verbose=verbose, batch_size=batch_size)\n",
    "model.save(\"keras_models/\" + name + \".keras\")\n",
    "print(\"Model \" + name + \" has been trained!\")\n",
    "# ============================================\n",
    "\n",
    "print(\"Time since start of timekeeping: \" + str(time.time() - start_time) + \" seconds\\n\")"
   ]
  },
  {
   "cell_type": "code",
   "execution_count": 4,
   "id": "c09d8b19-283a-4c98-9f01-e5b1a22c62c9",
   "metadata": {},
   "outputs": [
    {
     "name": "stdout",
     "output_type": "stream",
     "text": [
      "Model Linear_Cosine has been trained!\n",
      "Time since start of timekeeping: 558.6202156543732 seconds\n",
      "\n"
     ]
    }
   ],
   "source": [
    "name = \"Linear_Cosine\"\n",
    "\n",
    "# === INPUT ==================================\n",
    "x_in = Input(shape=X_train.shape[1:])\n",
    "x = x_in\n",
    "# === Hidden layers ==========================\n",
    "# No hidden layers\n",
    "# === OUTPUT =================================\n",
    "x_out = Dense(978)(x) # default activation is linear\n",
    "# ============================================\n",
    "\n",
    "\n",
    "# === MODEL ==================================\n",
    "model = Model(inputs=x_in, outputs=x_out, name=name)\n",
    "# ============================================\n",
    "\n",
    "\n",
    "# === Compile and save model =================\n",
    "sgd = SGD(learning_rate=0.01, momentum=0.9, nesterov=True)\n",
    "model.compile(loss=CosineSimilarity(), metrics=global_metrics, optimizer=sgd)\n",
    "#model.summary(0)\n",
    "model_dict[name] = model\n",
    "# ============================================\n",
    "\n",
    "# === TRAIN model ============================\n",
    "hist_dict[name] = model.fit(X_train,y_train, epochs=n_epochs, verbose=verbose, batch_size=batch_size)\n",
    "model.save(\"keras_models/\" + name + \".keras\")\n",
    "print(\"Model \" + name + \" has been trained!\")\n",
    "# ============================================\n",
    "\n",
    "print(\"Time since start of timekeeping: \" + str(time.time() - start_time) + \" seconds\\n\")"
   ]
  },
  {
   "cell_type": "markdown",
   "id": "64458022-eef7-415a-a6f1-2d16e7388e2c",
   "metadata": {},
   "source": [
    "# Deep models"
   ]
  },
  {
   "cell_type": "code",
   "execution_count": 5,
   "id": "617c6872-ff0b-4020-a51b-e5fda51510a1",
   "metadata": {},
   "outputs": [
    {
     "name": "stdout",
     "output_type": "stream",
     "text": [
      "Model NeuNet_simp_MSE has been trained!\n",
      "Time since start of timekeeping: 1389.8634731769562 seconds\n",
      "\n"
     ]
    }
   ],
   "source": [
    "name = \"NeuNet_simp_MSE\"\n",
    "\n",
    "# === INPUT ==================================\n",
    "x_in = Input(shape=X_train.shape[1:])\n",
    "x = x_in\n",
    "# === Hidden layers ==========================\n",
    "x = Dense(300, activation=\"relu\")(x)\n",
    "x = Dense(700, activation=\"relu\")(x)\n",
    "# === OUTPUT =================================\n",
    "x_out = Dense(978)(x)\n",
    "# ============================================\n",
    "\n",
    "# === MODEL ==================================\n",
    "model = Model(inputs=x_in, outputs=x_out, name=name)\n",
    "# ============================================\n",
    "\n",
    "# === Compile and save model =================\n",
    "sgd = SGD(learning_rate=0.01, momentum=0.9, nesterov=True)\n",
    "model.compile(loss=MeanSquaredError(), metrics=global_metrics, optimizer=sgd)\n",
    "#model.summary(0)\n",
    "model_dict[name] = model\n",
    "# ============================================\n",
    "\n",
    "# === TRAIN model ============================\n",
    "hist_dict[name] = model.fit(X_train,y_train, epochs=n_epochs, verbose=verbose, batch_size=batch_size)\n",
    "model.save(\"keras_models/\" + name + \".keras\")\n",
    "print(\"Model \" + name + \" has been trained!\")\n",
    "# ============================================\n",
    "\n",
    "print(\"Time since start of timekeeping: \" + str(time.time() - start_time) + \" seconds\\n\")"
   ]
  },
  {
   "cell_type": "code",
   "execution_count": 6,
   "id": "65e0d60f-b5a5-4b88-841c-4f4115c09fc4",
   "metadata": {},
   "outputs": [
    {
     "name": "stdout",
     "output_type": "stream",
     "text": [
      "Model NeuNet_simp_Cosine has been trained!\n",
      "Time since start of timekeeping: 2237.0334601402283 seconds\n",
      "\n"
     ]
    }
   ],
   "source": [
    "name = \"NeuNet_simp_Cosine\"\n",
    "\n",
    "# === INPUT ==================================\n",
    "x_in = Input(shape=X_train.shape[1:])\n",
    "x = x_in\n",
    "# === Hidden layers ==========================\n",
    "x = Dense(300, activation=\"relu\")(x)\n",
    "x = Dense(700, activation=\"relu\")(x)\n",
    "# === OUTPUT =================================\n",
    "x_out = Dense(978)(x)\n",
    "# ============================================\n",
    "\n",
    "# === MODEL ==================================\n",
    "model = Model(inputs=x_in, outputs=x_out, name=name)\n",
    "# ============================================\n",
    "\n",
    "# === Compile and save model =================\n",
    "sgd = SGD(learning_rate=0.01, momentum=0.9, nesterov=True)\n",
    "model.compile(loss=CosineSimilarity(), metrics=global_metrics, optimizer=sgd)\n",
    "#model.summary(1)\n",
    "model_dict[name] = model\n",
    "# ============================================\n",
    "\n",
    "# === TRAIN model ============================\n",
    "hist_dict[name] = model.fit(X_train,y_train, epochs=n_epochs, verbose=verbose, batch_size=batch_size)\n",
    "model.save(\"keras_models/\" + name + \".keras\")\n",
    "print(\"Model \" + name + \" has been trained!\")\n",
    "# ============================================\n",
    "\n",
    "print(\"Time since start of timekeeping: \" + str(time.time() - start_time) + \" seconds\\n\")"
   ]
  },
  {
   "cell_type": "code",
   "execution_count": 7,
   "id": "921e09b4-3370-4291-ba7e-641f47777b17",
   "metadata": {},
   "outputs": [
    {
     "name": "stdout",
     "output_type": "stream",
     "text": [
      "Model NeuNet_comp_MSE has been trained!\n",
      "Time since start of timekeeping: 3303.3440277576447 seconds\n",
      "\n"
     ]
    }
   ],
   "source": [
    "name = \"NeuNet_comp_MSE\"\n",
    "\n",
    "# === INPUT ==================================\n",
    "x_in = Input(shape=X_train.shape[1:])\n",
    "x = x_in\n",
    "# === Hidden layers ==========================\n",
    "x = Dense(30, activation=\"relu\")(x)\n",
    "x = Dense(70, activation=\"relu\")(x)\n",
    "x = Dense(120, activation=\"relu\")(x)\n",
    "x = Dense(200, activation=\"relu\")(x)\n",
    "x = Dense(350, activation=\"relu\")(x)\n",
    "x = Dense(600, activation=\"relu\")(x)\n",
    "# === OUTPUT =================================\n",
    "x_out = Dense(978)(x)\n",
    "# ============================================\n",
    "\n",
    "# === MODEL ==================================\n",
    "model = Model(inputs=x_in, outputs=x_out, name=name)\n",
    "# ============================================\n",
    "\n",
    "# === Compile and save model =================\n",
    "sgd = SGD(learning_rate=0.01, momentum=0.9, nesterov=True)\n",
    "model.compile(loss=MeanSquaredError(), metrics=global_metrics, optimizer=sgd)\n",
    "#model.summary(1)\n",
    "model_dict[name] = model\n",
    "# ============================================\n",
    "\n",
    "# === TRAIN model ============================\n",
    "hist_dict[name] = model.fit(X_train,y_train, epochs=n_epochs, verbose=verbose, batch_size=batch_size)\n",
    "model.save(\"keras_models/\" + name + \".keras\")\n",
    "print(\"Model \" + name + \" has been trained!\")\n",
    "# ============================================\n",
    "\n",
    "print(\"Time since start of timekeeping: \" + str(time.time() - start_time) + \" seconds\\n\")"
   ]
  },
  {
   "cell_type": "code",
   "execution_count": 8,
   "id": "01095267-4ddf-4efe-8e67-c42bcc1271a1",
   "metadata": {},
   "outputs": [
    {
     "name": "stdout",
     "output_type": "stream",
     "text": [
      "Model NeuNet_comp_Cosine has been trained!\n",
      "Time since start of timekeeping: 4399.857454299927 seconds\n",
      "\n"
     ]
    }
   ],
   "source": [
    "name = \"NeuNet_comp_Cosine\"\n",
    "\n",
    "# === INPUT ==================================\n",
    "x_in = Input(shape=X_train.shape[1:])\n",
    "x = x_in\n",
    "# === Hidden layers ==========================\n",
    "x = Dense(30, activation=\"relu\")(x)\n",
    "x = Dense(70, activation=\"relu\")(x)\n",
    "x = Dense(120, activation=\"relu\")(x)\n",
    "x = Dense(200, activation=\"relu\")(x)\n",
    "x = Dense(350, activation=\"relu\")(x)\n",
    "x = Dense(600, activation=\"relu\")(x)\n",
    "# === OUTPUT =================================\n",
    "x_out = Dense(978)(x)\n",
    "# ============================================\n",
    "\n",
    "# === MODEL ==================================\n",
    "model = Model(inputs=x_in, outputs=x_out, name=name)\n",
    "# ============================================\n",
    "\n",
    "# === Compile and save model =================\n",
    "sgd = SGD(learning_rate=0.01, momentum=0.9, nesterov=True)\n",
    "model.compile(loss=CosineSimilarity(), metrics=global_metrics, optimizer=sgd)\n",
    "#model.summary(1)\n",
    "model_dict[name] = model\n",
    "# ============================================\n",
    "\n",
    "# === TRAIN model ============================\n",
    "hist_dict[name] = model.fit(X_train,y_train, epochs=n_epochs, verbose=verbose, batch_size=batch_size)\n",
    "model.save(\"keras_models/\" + name + \".keras\")\n",
    "print(\"Model \" + name + \" has been trained!\")\n",
    "# ============================================\n",
    "\n",
    "print(\"Time since start of timekeeping: \" + str(time.time() - start_time) + \" seconds\\n\")"
   ]
  },
  {
   "cell_type": "code",
   "execution_count": 9,
   "id": "db360390-af6a-4792-93f1-d5f68ade2c29",
   "metadata": {},
   "outputs": [
    {
     "name": "stdout",
     "output_type": "stream",
     "text": [
      "All models have been trained! Ride forth!\n"
     ]
    }
   ],
   "source": [
    "print(\"All models have been trained! Ride forth!\")"
   ]
  }
 ],
 "metadata": {
  "kernelspec": {
   "display_name": "Python 3 (ipykernel)",
   "language": "python",
   "name": "python3"
  },
  "language_info": {
   "codemirror_mode": {
    "name": "ipython",
    "version": 3
   },
   "file_extension": ".py",
   "mimetype": "text/x-python",
   "name": "python",
   "nbconvert_exporter": "python",
   "pygments_lexer": "ipython3",
   "version": "3.12.8"
  }
 },
 "nbformat": 4,
 "nbformat_minor": 5
}
