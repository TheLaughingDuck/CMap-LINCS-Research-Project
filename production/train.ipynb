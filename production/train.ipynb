{
 "cells": [
  {
   "cell_type": "markdown",
   "id": "dd1473ad-cf51-4ca1-936d-b7686e9694a4",
   "metadata": {},
   "source": [
    "# Preprocess"
   ]
  },
  {
   "cell_type": "code",
   "execution_count": 1,
   "id": "492b13f0-11bc-4281-95ae-85acbf8aedfb",
   "metadata": {},
   "outputs": [
    {
     "name": "stdout",
     "output_type": "stream",
     "text": [
      "\n",
      "Arise, arise, Kernels of the Motherboard!\n"
     ]
    },
    {
     "name": "stderr",
     "output_type": "stream",
     "text": [
      "/local/data1/simjo484/cond_env/lib/python3.12/site-packages/cmapPy/pandasGEXpress/parse_gctx.py:275: FutureWarning: errors='ignore' is deprecated and will raise in a future version. Use to_numeric without passing `errors` and catch exceptions explicitly instead\n",
      "  meta_df = meta_df.apply(lambda x: pd.to_numeric(x, errors=\"ignore\"))\n",
      "/local/data1/simjo484/cond_env/lib/python3.12/site-packages/cmapPy/pandasGEXpress/parse_gctx.py:275: FutureWarning: errors='ignore' is deprecated and will raise in a future version. Use to_numeric without passing `errors` and catch exceptions explicitly instead\n",
      "  meta_df = meta_df.apply(lambda x: pd.to_numeric(x, errors=\"ignore\"))\n"
     ]
    },
    {
     "name": "stdout",
     "output_type": "stream",
     "text": [
      "\n",
      "The first cell has been defeated! Kernel shall be shaken, Cooling fan be splintered,\n",
      "\n",
      "A second cell has fallen. Let the hope inspire you! Victory awaits!\n",
      "\n",
      "Another cell tumbles down before our Kernels, defeated! The admins smile upon us on this glorious day!\n",
      "\n",
      "Victory is within our grasp! Fight so that the algorithms back home may live yet another day!\n",
      "\n",
      "Onwards! Victory is on the horison!\n"
     ]
    },
    {
     "name": "stderr",
     "output_type": "stream",
     "text": [
      "/tmp/ipykernel_1051611/4131779615.py:2: FutureWarning: Downcasting object dtype arrays on .fillna, .ffill, .bfill is deprecated and will change in a future version. Call result.infer_objects(copy=False) instead. To opt-in to the future behavior, set `pd.set_option('future.no_silent_downcasting', True)`\n",
      "  X = X.fillna(0)\n"
     ]
    },
    {
     "name": "stdout",
     "output_type": "stream",
     "text": [
      "\n",
      "All but one foul cell remains! Slay it!\n",
      "\n",
      "The cells have fallen! Ride now, ride now! Ride to the next Notebook!\n",
      "donor_sex: (array(['F', 'M', 'Unknown'], dtype=object), array([810350, 550335, 346790]))\n",
      "\n",
      "donor_ethnicity: (array(['Asian', 'Black', 'Caucasian', 'Japanese', 'Unknown'], dtype=object), array([  5157,  73262, 816229,  66880, 745947]))\n",
      "\n",
      "donor_tumor_phase: (array(['Metastatic', 'Primary', 'Recurrent', 'Unknown'], dtype=object), array([537379, 399574,   2547, 767975]))\n",
      "\n",
      "cell_lineage: (array(['autonomic_ganglia', 'bone', 'breast', 'central_nervous_system',\n",
      "       'cervix', 'endometrium', 'haematopoietic_and_lymphoid_tissue',\n",
      "       'kidney', 'large_intestine', 'liver', 'lung', 'ovary', 'pancreas',\n",
      "       'placenta', 'prostate', 'skin', 'soft_tissue', 'stomach',\n",
      "       'unknown', 'upper_aerodigestive_tract', 'urinary_tract'],\n",
      "      dtype=object), array([  5242,  46700, 329367,  56202,  67447,  21495, 130832, 128454,\n",
      "       110353,  42268, 187768,  17770,  58127,   4527, 175207, 123671,\n",
      "        29465,   5313, 157137,   1552,   8578]))\n",
      "\n",
      "growth_pattern: (array(['adherent', 'mix', 'suspension', 'unknown'], dtype=object), array([1141610,  126938,  123510,  315417]))\n",
      "\n",
      "primary_disease: (array(['bladder cancer', 'bone cancer', 'brain cancer', 'breast cancer',\n",
      "       'cervical cancer', 'colon cancer', 'embryonal cancer',\n",
      "       'endometrial cancer', 'gastric cancer', 'head and neck cancer',\n",
      "       'kidney cancer', 'leukemia', 'liver cancer', 'lung cancer',\n",
      "       'lymphoma', 'myeloma', 'neuroblastoma', 'normal blood sample',\n",
      "       'normal kidney sample', 'normal lung sample',\n",
      "       'normal soft tissue sample', 'normal stem cell sample',\n",
      "       'ovarian cancer', 'pancreatic cancer', 'prostate cancer',\n",
      "       'skin cancer', 'unknown'], dtype=object), array([  8578,  46700,   7354, 319140,  67447, 110353,   4336,  22985,\n",
      "         5313,   1552,   3039,  97364,  42268, 183889,  40290,   3200,\n",
      "         5770,   4732, 126933,   3879,  23611,  48320,  16280,  58127,\n",
      "       175207, 123671, 157137]))\n",
      "\n",
      "cell_type: (array(['normal', 'pool', 'tumor'], dtype=object), array([ 242016,   65894, 1399565]))\n",
      "\n",
      "Preprocessing took 256.589298248291 seconds.\n"
     ]
    }
   ],
   "source": [
    "# To run this notebook by itself, first uncomment this line:\n",
    "%run preprocess.ipynb\n",
    "\n",
    "# === Load variables ================================================\n",
    "#import numpy as np\n",
    "#data_dir_name = \"preprocessed_data\"\n",
    "#X_train = np.load(data_dir_name + \"/\" + \"X_train.npy\")\n",
    "#X_valid = np.load(data_dir_name + \"/\" + \"X_valid.npy\")\n",
    "#X_test = np.load(data_dir_name + \"/\" + \"X_test.npy\")\n",
    "\n",
    "#y_train = np.load(data_dir_name + \"/\" + \"y_train.npy\")\n",
    "#y_valid = np.load(data_dir_name + \"/\" + \"y_valid.npy\")\n",
    "#y_test = np.load(data_dir_name + \"/\" + \"y_test.npy\")\n",
    "# ==================================================================="
   ]
  },
  {
   "cell_type": "markdown",
   "id": "5f087fe7-69f0-475f-9ba5-48bb90988ac3",
   "metadata": {},
   "source": [
    "# Design and Train models"
   ]
  },
  {
   "cell_type": "code",
   "execution_count": 2,
   "id": "2ad68b16-148c-499c-940b-ae0dd1d88c8f",
   "metadata": {},
   "outputs": [
    {
     "name": "stderr",
     "output_type": "stream",
     "text": [
      "2024-12-29 14:17:15.181124: I tensorflow/core/util/port.cc:153] oneDNN custom operations are on. You may see slightly different numerical results due to floating-point round-off errors from different computation orders. To turn them off, set the environment variable `TF_ENABLE_ONEDNN_OPTS=0`.\n",
      "2024-12-29 14:17:15.233379: I external/local_xla/xla/tsl/cuda/cudart_stub.cc:32] Could not find cuda drivers on your machine, GPU will not be used.\n",
      "2024-12-29 14:17:15.750576: I external/local_xla/xla/tsl/cuda/cudart_stub.cc:32] Could not find cuda drivers on your machine, GPU will not be used.\n",
      "2024-12-29 14:17:15.914792: E external/local_xla/xla/stream_executor/cuda/cuda_fft.cc:477] Unable to register cuFFT factory: Attempting to register factory for plugin cuFFT when one has already been registered\n",
      "WARNING: All log messages before absl::InitializeLog() is called are written to STDERR\n",
      "E0000 00:00:1735478236.203834 1051611 cuda_dnn.cc:8310] Unable to register cuDNN factory: Attempting to register factory for plugin cuDNN when one has already been registered\n",
      "E0000 00:00:1735478236.254471 1051611 cuda_blas.cc:1418] Unable to register cuBLAS factory: Attempting to register factory for plugin cuBLAS when one has already been registered\n",
      "2024-12-29 14:17:16.889033: I tensorflow/core/platform/cpu_feature_guard.cc:210] This TensorFlow binary is optimized to use available CPU instructions in performance-critical operations.\n",
      "To enable the following instructions: AVX2 AVX_VNNI FMA, in other operations, rebuild TensorFlow with the appropriate compiler flags.\n"
     ]
    },
    {
     "name": "stdout",
     "output_type": "stream",
     "text": [
      "Start of timekeeping.\n",
      "\n"
     ]
    }
   ],
   "source": [
    "# Model design\n",
    "from tensorflow.keras.optimizers import SGD\n",
    "from tensorflow.keras.models import Model\n",
    "from tensorflow.keras.layers import Input, Dense\n",
    "from tensorflow.keras.losses import CosineSimilarity, Huber, LogCosh, MeanAbsoluteError, MeanSquaredError\n",
    "\n",
    "model_dict = {}\n",
    "hist_dict = {}\n",
    "global_metrics = [CosineSimilarity(), MeanSquaredError(), MeanAbsoluteError(), Huber(), LogCosh()]\n",
    "global_metric_names = [metric.name for metric in global_metrics]\n",
    "\n",
    "# Model saving\n",
    "from keras.models import load_model\n",
    "\n",
    "# Training parameters\n",
    "n_epochs = 40\n",
    "batch_size = 200\n",
    "verbose = 0\n",
    "\n",
    "# Timekeeping\n",
    "import time\n",
    "print(\"Start of timekeeping.\\n\")\n",
    "start_time = time.time()"
   ]
  },
  {
   "cell_type": "markdown",
   "id": "40bae591-6867-448b-a0c4-bbab23afd9b2",
   "metadata": {},
   "source": [
    "## Linear models"
   ]
  },
  {
   "cell_type": "code",
   "execution_count": 3,
   "id": "314bf86e-04a8-4f30-87e3-876599e2eef0",
   "metadata": {},
   "outputs": [
    {
     "name": "stderr",
     "output_type": "stream",
     "text": [
      "2024-12-29 14:17:27.052020: E external/local_xla/xla/stream_executor/cuda/cuda_driver.cc:152] failed call to cuInit: INTERNAL: CUDA error: Failed call to cuInit: CUDA_ERROR_COMPAT_NOT_SUPPORTED_ON_DEVICE: forward compatibility was attempted on non supported HW\n",
      "2024-12-29 14:17:27.052038: I external/local_xla/xla/stream_executor/cuda/cuda_diagnostics.cc:137] retrieving CUDA diagnostic information for host: lnx00293.ad.liu.se\n",
      "2024-12-29 14:17:27.052041: I external/local_xla/xla/stream_executor/cuda/cuda_diagnostics.cc:144] hostname: lnx00293.ad.liu.se\n",
      "2024-12-29 14:17:27.052084: I external/local_xla/xla/stream_executor/cuda/cuda_diagnostics.cc:168] libcuda reported version is: 550.142.0\n",
      "2024-12-29 14:17:27.052092: I external/local_xla/xla/stream_executor/cuda/cuda_diagnostics.cc:172] kernel reported version is: 550.135.0\n",
      "2024-12-29 14:17:27.052094: E external/local_xla/xla/stream_executor/cuda/cuda_diagnostics.cc:262] kernel version 550.135.0 does not match DSO version 550.142.0 -- cannot find working devices in this configuration\n"
     ]
    },
    {
     "name": "stdout",
     "output_type": "stream",
     "text": [
      "Model Linear_MSE has been trained!\n",
      "Time since start of timekeeping: 378.9867615699768 seconds\n",
      "\n"
     ]
    }
   ],
   "source": [
    "name = \"Linear_MSE\"\n",
    "\n",
    "# === INPUT ==================================\n",
    "x_in = Input(shape=X_train.shape[1:])\n",
    "x = x_in\n",
    "# === Hidden layers ==========================\n",
    "# No hidden layers\n",
    "# === OUTPUT =================================\n",
    "x_out = Dense(978)(x) # default activation is linear\n",
    "# ============================================\n",
    "\n",
    "\n",
    "# === MODEL ==================================\n",
    "model = Model(inputs=x_in, outputs=x_out, name=name)\n",
    "# ============================================\n",
    "\n",
    "\n",
    "# === Compile and save model =================\n",
    "sgd = SGD(learning_rate=0.01, momentum=0.9, nesterov=True)\n",
    "model.compile(loss=MeanSquaredError(), metrics=global_metrics, optimizer=sgd)\n",
    "#model.summary(0)\n",
    "model_dict[name] = model\n",
    "# ============================================\n",
    "\n",
    "\n",
    "# === TRAIN model ============================\n",
    "hist_dict[name] = model.fit(X_train,y_train, epochs=n_epochs, verbose=verbose, batch_size=batch_size)\n",
    "model.save(\"keras_models/\" + name + \".keras\")\n",
    "print(\"Model \" + name + \" has been trained!\")\n",
    "# ============================================\n",
    "\n",
    "print(\"Time since start of timekeeping: \" + str(time.time() - start_time) + \" seconds\\n\")"
   ]
  },
  {
   "cell_type": "code",
   "execution_count": 4,
   "id": "c09d8b19-283a-4c98-9f01-e5b1a22c62c9",
   "metadata": {},
   "outputs": [
    {
     "name": "stdout",
     "output_type": "stream",
     "text": [
      "Model Linear_Cosine has been trained!\n",
      "Time since start of timekeeping: 790.2102999687195 seconds\n",
      "\n"
     ]
    }
   ],
   "source": [
    "name = \"Linear_Cosine\"\n",
    "\n",
    "# === INPUT ==================================\n",
    "x_in = Input(shape=X_train.shape[1:])\n",
    "x = x_in\n",
    "# === Hidden layers ==========================\n",
    "# No hidden layers\n",
    "# === OUTPUT =================================\n",
    "x_out = Dense(978)(x) # default activation is linear\n",
    "# ============================================\n",
    "\n",
    "\n",
    "# === MODEL ==================================\n",
    "model = Model(inputs=x_in, outputs=x_out, name=name)\n",
    "# ============================================\n",
    "\n",
    "\n",
    "# === Compile and save model =================\n",
    "sgd = SGD(learning_rate=0.01, momentum=0.9, nesterov=True)\n",
    "model.compile(loss=CosineSimilarity(), metrics=global_metrics, optimizer=sgd)\n",
    "#model.summary(0)\n",
    "model_dict[name] = model\n",
    "# ============================================\n",
    "\n",
    "# === TRAIN model ============================\n",
    "hist_dict[name] = model.fit(X_train,y_train, epochs=n_epochs, verbose=verbose, batch_size=batch_size)\n",
    "model.save(\"keras_models/\" + name + \".keras\")\n",
    "print(\"Model \" + name + \" has been trained!\")\n",
    "# ============================================\n",
    "\n",
    "print(\"Time since start of timekeeping: \" + str(time.time() - start_time) + \" seconds\\n\")"
   ]
  },
  {
   "cell_type": "markdown",
   "id": "64458022-eef7-415a-a6f1-2d16e7388e2c",
   "metadata": {},
   "source": [
    "# Deep models"
   ]
  },
  {
   "cell_type": "code",
   "execution_count": 5,
   "id": "617c6872-ff0b-4020-a51b-e5fda51510a1",
   "metadata": {},
   "outputs": [
    {
     "name": "stdout",
     "output_type": "stream",
     "text": [
      "Model NeuNet_simp_MSE has been trained!\n",
      "Time since start of timekeeping: 1680.205079317093 seconds\n",
      "\n"
     ]
    }
   ],
   "source": [
    "name = \"NeuNet_simp_MSE\"\n",
    "\n",
    "# === INPUT ==================================\n",
    "x_in = Input(shape=X_train.shape[1:])\n",
    "x = x_in\n",
    "# === Hidden layers ==========================\n",
    "x = Dense(370, activation=\"relu\")(x)\n",
    "x = Dense(680, activation=\"relu\")(x)\n",
    "# === OUTPUT =================================\n",
    "x_out = Dense(978)(x)\n",
    "# ============================================\n",
    "\n",
    "# === MODEL ==================================\n",
    "model = Model(inputs=x_in, outputs=x_out, name=name)\n",
    "# ============================================\n",
    "\n",
    "# === Compile and save model =================\n",
    "sgd = SGD(learning_rate=0.01, momentum=0.9, nesterov=True)\n",
    "model.compile(loss=MeanSquaredError(), metrics=global_metrics, optimizer=sgd)\n",
    "#model.summary(0)\n",
    "model_dict[name] = model\n",
    "# ============================================\n",
    "\n",
    "# === TRAIN model ============================\n",
    "hist_dict[name] = model.fit(X_train,y_train, epochs=n_epochs, verbose=verbose, batch_size=batch_size)\n",
    "model.save(\"keras_models/\" + name + \".keras\")\n",
    "print(\"Model \" + name + \" has been trained!\")\n",
    "# ============================================\n",
    "\n",
    "print(\"Time since start of timekeeping: \" + str(time.time() - start_time) + \" seconds\\n\")"
   ]
  },
  {
   "cell_type": "code",
   "execution_count": 6,
   "id": "65e0d60f-b5a5-4b88-841c-4f4115c09fc4",
   "metadata": {},
   "outputs": [
    {
     "name": "stdout",
     "output_type": "stream",
     "text": [
      "Model NeuNet_simp_Cosine has been trained!\n",
      "Time since start of timekeeping: 2598.0051691532135 seconds\n",
      "\n"
     ]
    }
   ],
   "source": [
    "name = \"NeuNet_simp_Cosine\"\n",
    "\n",
    "# === INPUT ==================================\n",
    "x_in = Input(shape=X_train.shape[1:])\n",
    "x = x_in\n",
    "# === Hidden layers ==========================\n",
    "x = Dense(370, activation=\"relu\")(x)\n",
    "x = Dense(680, activation=\"relu\")(x)\n",
    "# === OUTPUT =================================\n",
    "x_out = Dense(978)(x)\n",
    "# ============================================\n",
    "\n",
    "# === MODEL ==================================\n",
    "model = Model(inputs=x_in, outputs=x_out, name=name)\n",
    "# ============================================\n",
    "\n",
    "# === Compile and save model =================\n",
    "sgd = SGD(learning_rate=0.01, momentum=0.9, nesterov=True)\n",
    "model.compile(loss=CosineSimilarity(), metrics=global_metrics, optimizer=sgd)\n",
    "#model.summary(1)\n",
    "model_dict[name] = model\n",
    "# ============================================\n",
    "\n",
    "# === TRAIN model ============================\n",
    "hist_dict[name] = model.fit(X_train,y_train, epochs=n_epochs, verbose=verbose, batch_size=batch_size)\n",
    "model.save(\"keras_models/\" + name + \".keras\")\n",
    "print(\"Model \" + name + \" has been trained!\")\n",
    "# ============================================\n",
    "\n",
    "print(\"Time since start of timekeeping: \" + str(time.time() - start_time) + \" seconds\\n\")"
   ]
  },
  {
   "cell_type": "code",
   "execution_count": 7,
   "id": "921e09b4-3370-4291-ba7e-641f47777b17",
   "metadata": {},
   "outputs": [
    {
     "name": "stdout",
     "output_type": "stream",
     "text": [
      "Model NeuNet_comp_MSE has been trained!\n",
      "Time since start of timekeeping: 4132.098164319992 seconds\n",
      "\n"
     ]
    }
   ],
   "source": [
    "name = \"NeuNet_comp_MSE\"\n",
    "\n",
    "# === INPUT ==================================\n",
    "x_in = Input(shape=X_train.shape[1:])\n",
    "x = x_in\n",
    "# === Hidden layers ==========================\n",
    "x = Dense(100, activation=\"relu\")(x)\n",
    "x = Dense(150, activation=\"relu\")(x)\n",
    "x = Dense(210, activation=\"relu\")(x)\n",
    "x = Dense(320, activation=\"relu\")(x)\n",
    "x = Dense(450, activation=\"relu\")(x)\n",
    "x = Dense(670, activation=\"relu\")(x)\n",
    "# === OUTPUT =================================\n",
    "x_out = Dense(978)(x)\n",
    "# ============================================\n",
    "\n",
    "# === MODEL ==================================\n",
    "model = Model(inputs=x_in, outputs=x_out, name=name)\n",
    "# ============================================\n",
    "\n",
    "# === Compile and save model =================\n",
    "sgd = SGD(learning_rate=0.01, momentum=0.9, nesterov=True)\n",
    "model.compile(loss=MeanSquaredError(), metrics=global_metrics, optimizer=sgd)\n",
    "#model.summary(1)\n",
    "model_dict[name] = model\n",
    "# ============================================\n",
    "\n",
    "# === TRAIN model ============================\n",
    "hist_dict[name] = model.fit(X_train,y_train, epochs=n_epochs, verbose=verbose, batch_size=batch_size)\n",
    "model.save(\"keras_models/\" + name + \".keras\")\n",
    "print(\"Model \" + name + \" has been trained!\")\n",
    "# ============================================\n",
    "\n",
    "print(\"Time since start of timekeeping: \" + str(time.time() - start_time) + \" seconds\\n\")"
   ]
  },
  {
   "cell_type": "code",
   "execution_count": 8,
   "id": "01095267-4ddf-4efe-8e67-c42bcc1271a1",
   "metadata": {},
   "outputs": [
    {
     "name": "stdout",
     "output_type": "stream",
     "text": [
      "Model NeuNet_comp_Cosine has been trained!\n",
      "Time since start of timekeeping: 5681.140399456024 seconds\n",
      "\n"
     ]
    }
   ],
   "source": [
    "name = \"NeuNet_comp_Cosine\"\n",
    "\n",
    "# === INPUT ==================================\n",
    "x_in = Input(shape=X_train.shape[1:])\n",
    "x = x_in\n",
    "# === Hidden layers ==========================\n",
    "x = Dense(100, activation=\"relu\")(x)\n",
    "x = Dense(150, activation=\"relu\")(x)\n",
    "x = Dense(210, activation=\"relu\")(x)\n",
    "x = Dense(320, activation=\"relu\")(x)\n",
    "x = Dense(450, activation=\"relu\")(x)\n",
    "x = Dense(670, activation=\"relu\")(x)\n",
    "# === OUTPUT =================================\n",
    "x_out = Dense(978)(x)\n",
    "# ============================================\n",
    "\n",
    "# === MODEL ==================================\n",
    "model = Model(inputs=x_in, outputs=x_out, name=name)\n",
    "# ============================================\n",
    "\n",
    "# === Compile and save model =================\n",
    "sgd = SGD(learning_rate=0.01, momentum=0.9, nesterov=True)\n",
    "model.compile(loss=CosineSimilarity(), metrics=global_metrics, optimizer=sgd)\n",
    "#model.summary(1)\n",
    "model_dict[name] = model\n",
    "# ============================================\n",
    "\n",
    "# === TRAIN model ============================\n",
    "hist_dict[name] = model.fit(X_train,y_train, epochs=n_epochs, verbose=verbose, batch_size=batch_size)\n",
    "model.save(\"keras_models/\" + name + \".keras\")\n",
    "print(\"Model \" + name + \" has been trained!\")\n",
    "# ============================================\n",
    "\n",
    "print(\"Time since start of timekeeping: \" + str(time.time() - start_time) + \" seconds\\n\")"
   ]
  },
  {
   "cell_type": "code",
   "execution_count": 9,
   "id": "db360390-af6a-4792-93f1-d5f68ade2c29",
   "metadata": {},
   "outputs": [
    {
     "name": "stdout",
     "output_type": "stream",
     "text": [
      "All models have been trained! Ride forth!\n"
     ]
    }
   ],
   "source": [
    "print(\"All models have been trained! Ride forth!\")"
   ]
  }
 ],
 "metadata": {
  "kernelspec": {
   "display_name": "Python 3 (ipykernel)",
   "language": "python",
   "name": "python3"
  },
  "language_info": {
   "codemirror_mode": {
    "name": "ipython",
    "version": 3
   },
   "file_extension": ".py",
   "mimetype": "text/x-python",
   "name": "python",
   "nbconvert_exporter": "python",
   "pygments_lexer": "ipython3",
   "version": "3.12.8"
  }
 },
 "nbformat": 4,
 "nbformat_minor": 5
}
